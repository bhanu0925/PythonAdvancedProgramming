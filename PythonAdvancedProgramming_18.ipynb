{
 "cells": [
  {
   "cell_type": "markdown",
   "id": "568e1e04",
   "metadata": {},
   "source": [
    "## PythonAdvanceProgramming_18"
   ]
  },
  {
   "cell_type": "markdown",
   "id": "643c4e27",
   "metadata": {},
   "source": [
    "### Question 1   \n",
    "   1. A robot has been given a list of movement instructions. Each instruction is either left, right, up or down, \n",
    "    followed by a distance to move. The robot starts at [0, 0]. You want to calculate where the robot will end up and return \n",
    "    its final position as a list.\n",
    "\n",
    "    To illustrate, if the robot is given the following instructions:\n",
    "\n",
    "    [\"right 10\", \"up 50\", \"left 30\", \"down 10\"]\n",
    "\n",
    "    It will end up 20 left and 40 up from where it started, so we return [-20, 40].\n",
    "\n",
    "    Examples\n",
    "\n",
    "    track_robot([\"right 10\", \"up 50\", \"left 30\", \"down 10\"]) ➞ [-20, 40]\n",
    "\n",
    "    track_robot([]) ➞ [0, 0]\n",
    "    // If there are no instructions, the robot doesn't move.\n",
    "\n",
    "    track_robot([\"right 100\", \"right 100\", \"up 500\", \"up 10000\"]) ➞ [200, 10500]"
   ]
  },
  {
   "cell_type": "code",
   "execution_count": 2,
   "id": "88240f44",
   "metadata": {},
   "outputs": [],
   "source": [
    "\n",
    "def track_robot(lst):\n",
    "    start=[0,0]\n",
    "    for i in lst:\n",
    "        way,val=i.split(\" \")\n",
    "        if way ==\"right\":\n",
    "            start[0] +=int(val)\n",
    "        elif way ==\"left\":\n",
    "            start[0] -=int(val)\n",
    "        elif way ==\"up\":\n",
    "            start[1] +=int(val)\n",
    "        else:\n",
    "            start[1] -=int(val)\n",
    "    return (start)"
   ]
  },
  {
   "cell_type": "code",
   "execution_count": 3,
   "id": "c7e97312",
   "metadata": {},
   "outputs": [
    {
     "data": {
      "text/plain": [
       "[0, 0]"
      ]
     },
     "execution_count": 3,
     "metadata": {},
     "output_type": "execute_result"
    }
   ],
   "source": [
    "track_robot([])"
   ]
  },
  {
   "cell_type": "code",
   "execution_count": 4,
   "id": "76f7c4ba",
   "metadata": {},
   "outputs": [
    {
     "data": {
      "text/plain": [
       "[200, 10500]"
      ]
     },
     "execution_count": 4,
     "metadata": {},
     "output_type": "execute_result"
    }
   ],
   "source": [
    "track_robot([\"right 100\", \"right 100\", \"up 500\", \"up 10000\"])"
   ]
  },
  {
   "cell_type": "code",
   "execution_count": 5,
   "id": "042a37d3",
   "metadata": {},
   "outputs": [
    {
     "data": {
      "text/plain": [
       "[-20, 40]"
      ]
     },
     "execution_count": 5,
     "metadata": {},
     "output_type": "execute_result"
    }
   ],
   "source": [
    "track_robot([\"right 10\", \"up 50\", \"left 30\", \"down 10\"])"
   ]
  },
  {
   "cell_type": "markdown",
   "id": "bb153b7b",
   "metadata": {},
   "source": [
    "### Question 2\n",
    "    2. Write a function that will return the longest word in a sentence. In cases where more than one word is found, return the first one.\n",
    "\n",
    "    Examples\n",
    "\n",
    "    find_longest(\"A thing of beauty is a joy forever.\") ➞ \"forever\"\n",
    "\n",
    "    find_longest(\"Forgetfulness is by all means powerless!\") ➞ \"forgetfulness\"\n",
    "\n",
    "    find_longest(\"\\\"Strengths\\\" is the longest and most commonly used word that contains only a single vowel.\") ➞ \"strengths\"\n"
   ]
  },
  {
   "cell_type": "code",
   "execution_count": 57,
   "id": "77fad83c",
   "metadata": {},
   "outputs": [],
   "source": [
    "def find_longest(string):\n",
    "    new=string.split()\n",
    "    largest=\"\"\n",
    "    for i in new:\n",
    "        temp=\"\"\n",
    "        for j in i:\n",
    "            if j.isalpha():\n",
    "                temp+=j\n",
    "        if len(temp)> len(largest):\n",
    "            largest = temp\n",
    "\n",
    "    return (largest)\n",
    "    \n"
   ]
  },
  {
   "cell_type": "code",
   "execution_count": 56,
   "id": "50ae5bc1",
   "metadata": {},
   "outputs": [
    {
     "name": "stdout",
     "output_type": "stream",
     "text": [
      "forever\n"
     ]
    }
   ],
   "source": [
    "find_longest(\"A thing of beauty is a joy forever.\")"
   ]
  },
  {
   "cell_type": "code",
   "execution_count": 58,
   "id": "a3652d2e",
   "metadata": {},
   "outputs": [
    {
     "data": {
      "text/plain": [
       "'Forgetfulness'"
      ]
     },
     "execution_count": 58,
     "metadata": {},
     "output_type": "execute_result"
    }
   ],
   "source": [
    "find_longest(\"Forgetfulness is by all means powerless!\")"
   ]
  },
  {
   "cell_type": "code",
   "execution_count": 59,
   "id": "0228676a",
   "metadata": {},
   "outputs": [
    {
     "data": {
      "text/plain": [
       "'Strengths'"
      ]
     },
     "execution_count": 59,
     "metadata": {},
     "output_type": "execute_result"
    }
   ],
   "source": [
    "find_longest(\"\\\"Strengths\\\" is the longest and most commonly used word that contains only a single vowel.\")"
   ]
  },
  {
   "cell_type": "markdown",
   "id": "6b8768df",
   "metadata": {},
   "source": [
    "### Question 3\n",
    "    3. Create a function to check if a candidate is qualified in an imaginary coding interview of an imaginary tech startup.\n",
    "\n",
    "    The criteria for a candidate to be qualified in the coding interview is:\n",
    "\n",
    "       1. The candidate should have complete all the questions.\n",
    "       2. The maximum time given to complete the interview is 120 minutes.\n",
    "       3. The maximum time given for very easy questions is 5 minutes each.\n",
    "       4. The maximum time given for easy questions is 10 minutes each.\n",
    "       5. The maximum time given for medium questions is 15 minutes each.\n",
    "       6. The maximum time given for hard questions is 20 minutes each.\n",
    "\n",
    "    If all the above conditions are satisfied, return \"qualified\", else return \"disqualified\".\n",
    "\n",
    "    You will be given a list of time taken by a candidate to solve a particular question and the total time taken by the candidate to complete the interview.\n",
    "\n",
    "    Given a list , in a true condition will always be in the format [very easy, very easy, easy, easy, medium, medium, hard, hard].\n",
    "\n",
    "    The maximum time to complete the interview includes a buffer time of 20 minutes.\n",
    "\n",
    "    Examples\n",
    "\n",
    "    interview([5, 5, 10, 10, 15, 15, 20, 20], 120) ➞ \"qualified\"\n",
    "\n",
    "    interview([2, 3, 8, 6, 5, 12, 10, 18], 64) ➞  \"qualified\"\n",
    "\n",
    "    interview([5, 5, 10, 10, 25, 15, 20, 20], 120) ➞ \"disqualified\"\n",
    "\n",
    "    # Exceeded the time limit for a medium question.\n",
    "\n",
    "    interview([5, 5, 10, 10, 15, 15, 20], 120) ➞ \"disqualified\"\n",
    "\n",
    "    # Did not complete all the questions.\n",
    "\n",
    "    interview([5, 5, 10, 10, 15, 15, 20, 20], 130) ➞ \"disqualified\"\n",
    "\n",
    "    # Solved all the questions in their respected time limits but exceeded the total time limit of the interview.\n"
   ]
  },
  {
   "cell_type": "code",
   "execution_count": 71,
   "id": "c4dbb400",
   "metadata": {},
   "outputs": [],
   "source": [
    "# [very easy, very easy, easy, easy, medium, medium, hard, hard]\n",
    "\n",
    "def interview(lst,taken_time):\n",
    "    std =[5,5,10,10,15,15,20,20]\n",
    "    total_time=120\n",
    "    if len(lst)<len(std):\n",
    "        return \"disqualified\"\n",
    "    if taken_time>total_time:\n",
    "        return \"disqualified\"\n",
    "    for i in range(len(lst)):\n",
    "        if lst[i]>std[i]:\n",
    "            return \"disqualified\"\n",
    "    return \"qualified\""
   ]
  },
  {
   "cell_type": "code",
   "execution_count": 73,
   "id": "90da8d00",
   "metadata": {},
   "outputs": [
    {
     "data": {
      "text/plain": [
       "'qualified'"
      ]
     },
     "execution_count": 73,
     "metadata": {},
     "output_type": "execute_result"
    }
   ],
   "source": [
    "interview([5, 5, 10, 10, 15, 15, 20, 20], 120)"
   ]
  },
  {
   "cell_type": "code",
   "execution_count": 74,
   "id": "4c0613de",
   "metadata": {},
   "outputs": [
    {
     "data": {
      "text/plain": [
       "'qualified'"
      ]
     },
     "execution_count": 74,
     "metadata": {},
     "output_type": "execute_result"
    }
   ],
   "source": [
    "interview([2, 3, 8, 6, 5, 12, 10, 18], 64)"
   ]
  },
  {
   "cell_type": "code",
   "execution_count": 75,
   "id": "4fd0e899",
   "metadata": {},
   "outputs": [
    {
     "data": {
      "text/plain": [
       "'disqualified'"
      ]
     },
     "execution_count": 75,
     "metadata": {},
     "output_type": "execute_result"
    }
   ],
   "source": [
    "interview([5, 5, 10, 10, 25, 15, 20, 20], 120)"
   ]
  },
  {
   "cell_type": "code",
   "execution_count": 76,
   "id": "08a3b680",
   "metadata": {},
   "outputs": [
    {
     "data": {
      "text/plain": [
       "'disqualified'"
      ]
     },
     "execution_count": 76,
     "metadata": {},
     "output_type": "execute_result"
    }
   ],
   "source": [
    "interview([5, 5, 10, 10, 15, 15, 20], 120)"
   ]
  },
  {
   "cell_type": "code",
   "execution_count": 77,
   "id": "15a21961",
   "metadata": {},
   "outputs": [
    {
     "data": {
      "text/plain": [
       "'disqualified'"
      ]
     },
     "execution_count": 77,
     "metadata": {},
     "output_type": "execute_result"
    }
   ],
   "source": [
    "interview([5, 5, 10, 10, 15, 15, 20, 20], 130)"
   ]
  },
  {
   "cell_type": "code",
   "execution_count": 78,
   "id": "eee7443c",
   "metadata": {},
   "outputs": [
    {
     "data": {
      "text/plain": [
       "'disqualified'"
      ]
     },
     "execution_count": 78,
     "metadata": {},
     "output_type": "execute_result"
    }
   ],
   "source": [
    "interview([5, 5, 10, 10, 25, 15, 20, 20], 120)"
   ]
  },
  {
   "cell_type": "markdown",
   "id": "664553f6",
   "metadata": {},
   "source": [
    "### Question 4\n",
    "    4. Write a function that divides a list into chunks of size n, where n is the length of each chunk.\n",
    "\n",
    "    Examples\n",
    "\n",
    "    chunkify([2, 3, 4, 5], 2) ➞ [[2, 3], [4, 5]]\n",
    "\n",
    "    chunkify([2, 3, 4, 5, 6], 2) ➞ [[2, 3], [4, 5], [6]]\n",
    "\n",
    "    chunkify([2, 3, 4, 5, 6, 7], 3) ➞ [[2, 3, 4], [5, 6, 7]]\n",
    "\n",
    "    chunkify([2, 3, 4, 5, 6, 7], 1) ➞ [[2], [3], [4], [5], [6], [7]]\n",
    "\n",
    "    chunkify([2, 3, 4, 5, 6, 7], 7) ➞ [[2, 3, 4, 5, 6, 7]]\n"
   ]
  },
  {
   "cell_type": "code",
   "execution_count": 86,
   "id": "3837ba64",
   "metadata": {},
   "outputs": [],
   "source": [
    "def chunkify(lst,num):\n",
    "    new=[lst[i:i + num] for i in range(0, len(lst), num)] \n",
    "    return new\n",
    "    "
   ]
  },
  {
   "cell_type": "code",
   "execution_count": 87,
   "id": "122004bf",
   "metadata": {},
   "outputs": [
    {
     "data": {
      "text/plain": [
       "[[2, 3], [4, 5]]"
      ]
     },
     "execution_count": 87,
     "metadata": {},
     "output_type": "execute_result"
    }
   ],
   "source": [
    "chunkify([2, 3, 4, 5], 2)"
   ]
  },
  {
   "cell_type": "code",
   "execution_count": 88,
   "id": "014a3657",
   "metadata": {},
   "outputs": [
    {
     "data": {
      "text/plain": [
       "[[2, 3], [4, 5], [6]]"
      ]
     },
     "execution_count": 88,
     "metadata": {},
     "output_type": "execute_result"
    }
   ],
   "source": [
    "chunkify([2, 3, 4, 5, 6], 2)"
   ]
  },
  {
   "cell_type": "code",
   "execution_count": 89,
   "id": "65a724c6",
   "metadata": {},
   "outputs": [
    {
     "data": {
      "text/plain": [
       "[[2], [3], [4], [5], [6], [7]]"
      ]
     },
     "execution_count": 89,
     "metadata": {},
     "output_type": "execute_result"
    }
   ],
   "source": [
    "chunkify([2, 3, 4, 5, 6, 7], 1)"
   ]
  },
  {
   "cell_type": "code",
   "execution_count": 90,
   "id": "d2c5d8f2",
   "metadata": {},
   "outputs": [
    {
     "data": {
      "text/plain": [
       "[[2, 3, 4, 5, 6, 7]]"
      ]
     },
     "execution_count": 90,
     "metadata": {},
     "output_type": "execute_result"
    }
   ],
   "source": [
    "chunkify([2, 3, 4, 5, 6, 7], 7)"
   ]
  },
  {
   "cell_type": "markdown",
   "id": "8b076f60",
   "metadata": {},
   "source": [
    "### Question 5\n",
    "    5. You are given a list of strings consisting of grocery items, with prices in parentheses. Return a list of prices in float format.\n",
    "\n",
    "    Examples\n",
    "\n",
    "    get_prices([\"salad ($4.99)\"]) ➞ [4.99]\n",
    "\n",
    "    get_prices([\n",
    "      \"artichokes ($1.99)\",\n",
    "      \"rotiserrie chicken ($5.99)\",\n",
    "      \"gum ($0.75)\"\n",
    "    ])\n",
    "\n",
    "    ➞ [1.99, 5.99, 0.75]\n",
    "\n",
    "    get_prices([\n",
    "      \"ice cream ($5.99)\",\n",
    "      \"banana ($0.20)\",\n",
    "      \"sandwich ($8.50)\",\n",
    "      \"soup ($1.99)\"\n",
    "    ])\n",
    "\n",
    "    ➞ [5.99, 0.2, 8.50, 1.99]"
   ]
  },
  {
   "cell_type": "code",
   "execution_count": 113,
   "id": "e871747f",
   "metadata": {},
   "outputs": [],
   "source": [
    "def get_prices(lst):\n",
    "#     price=[]\n",
    "#     for i in lst:\n",
    "#         s=i.split(\"$\")\n",
    "#         s=s[-1][:-1]\n",
    "#         price.append(float(s))\n",
    "#     return price   \n",
    "        \n",
    "     return [float(i.split(\"$\")[-1][:-1]) for i in lst]   \n"
   ]
  },
  {
   "cell_type": "code",
   "execution_count": 102,
   "id": "a241df22",
   "metadata": {},
   "outputs": [
    {
     "data": {
      "text/plain": [
       "[4.99]"
      ]
     },
     "execution_count": 102,
     "metadata": {},
     "output_type": "execute_result"
    }
   ],
   "source": [
    "get_prices([\"salad ($4.99)\"])"
   ]
  },
  {
   "cell_type": "code",
   "execution_count": 103,
   "id": "3de20fe5",
   "metadata": {},
   "outputs": [
    {
     "data": {
      "text/plain": [
       "[1.99, 5.99, 0.75]"
      ]
     },
     "execution_count": 103,
     "metadata": {},
     "output_type": "execute_result"
    }
   ],
   "source": [
    "get_prices([\n",
    "  \"artichokes ($1.99)\",\n",
    "  \"rotiserrie chicken ($5.99)\",\n",
    "  \"gum ($0.75)\"\n",
    "])"
   ]
  },
  {
   "cell_type": "code",
   "execution_count": 104,
   "id": "d67044b9",
   "metadata": {},
   "outputs": [
    {
     "data": {
      "text/plain": [
       "[5.99, 0.2, 8.5, 1.99]"
      ]
     },
     "execution_count": 104,
     "metadata": {},
     "output_type": "execute_result"
    }
   ],
   "source": [
    "get_prices([\n",
    "  \"ice cream ($5.99)\",\n",
    "  \"banana ($0.20)\",\n",
    "  \"sandwich ($8.50)\",\n",
    "  \"soup ($1.99)\"\n",
    "])\n"
   ]
  }
 ],
 "metadata": {
  "kernelspec": {
   "display_name": "Python 3",
   "language": "python",
   "name": "python3"
  },
  "language_info": {
   "codemirror_mode": {
    "name": "ipython",
    "version": 3
   },
   "file_extension": ".py",
   "mimetype": "text/x-python",
   "name": "python",
   "nbconvert_exporter": "python",
   "pygments_lexer": "ipython3",
   "version": "3.8.8"
  }
 },
 "nbformat": 4,
 "nbformat_minor": 5
}
