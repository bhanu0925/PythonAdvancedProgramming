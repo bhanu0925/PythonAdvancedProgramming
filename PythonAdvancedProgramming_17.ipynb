{
 "cells": [
  {
   "cell_type": "markdown",
   "id": "7b32a9a9",
   "metadata": {},
   "source": [
    "## PythonAdvancedProgramming_17"
   ]
  },
  {
   "cell_type": "markdown",
   "id": "3efee34f",
   "metadata": {},
   "source": [
    "### Question 1    \n",
    "    1. Create a function that transposes a 2D matrix.\n",
    "\n",
    "    Examples\n",
    "\n",
    "    transpose_matrix([\n",
    "      [1, 1, 1],\n",
    "      [2, 2, 2],\n",
    "      [3, 3, 3]\n",
    "    ]) ➞ [\n",
    "      [1, 2, 3],\n",
    "      [1, 2, 3],\n",
    "      [1, 2, 3]\n",
    "    ]\n",
    "\n",
    "    transpose_matrix([\n",
    "      [5, 5],\n",
    "      [6, 7],\n",
    "      [9, 1]\n",
    "    ]) ➞ [\n",
    "      [5, 6, 9],\n",
    "      [5, 7, 1]\n",
    "    ]"
   ]
  },
  {
   "cell_type": "code",
   "execution_count": 1,
   "id": "42dfb227",
   "metadata": {},
   "outputs": [],
   "source": [
    "def transpose_matrix(A):\n",
    "    N=len(A)\n",
    "    M=len(A[0])\n",
    " \n",
    "    for i in range(N):\n",
    "        for j in range(i+1, M):\n",
    "            A[i][j], A[j][i] = A[j][i], A[i][j]\n",
    "            \n",
    "    print(\"Transposed matrix is\")\n",
    "    \n",
    "    for i in range(N):\n",
    "        for j in range(M):\n",
    "            print(A[i][j], \" \", end='')\n",
    "        print()\n",
    "\n",
    "  \n"
   ]
  },
  {
   "cell_type": "code",
   "execution_count": 2,
   "id": "2d2e560f",
   "metadata": {},
   "outputs": [
    {
     "name": "stdout",
     "output_type": "stream",
     "text": [
      "Transposed matrix is\n",
      "1  2  3  4  \n",
      "1  2  3  4  \n",
      "1  2  3  4  \n",
      "1  2  3  4  \n"
     ]
    }
   ],
   "source": [
    "A = [ [1, 1, 1, 1],\n",
    "    [2, 2, 2, 2],\n",
    "    [3, 3, 3, 3],\n",
    "    [4, 4, 4, 4]]\n",
    "  \n",
    "transpose_matrix(A)"
   ]
  },
  {
   "cell_type": "code",
   "execution_count": 3,
   "id": "1be127e4",
   "metadata": {},
   "outputs": [
    {
     "name": "stdout",
     "output_type": "stream",
     "text": [
      "Transposed matrix is\n",
      "5  6  \n",
      "5  7  \n",
      "9  1  \n"
     ]
    }
   ],
   "source": [
    "transpose_matrix([\n",
    "  [5, 5],\n",
    "  [6, 7],\n",
    "  [9, 1]\n",
    "])"
   ]
  },
  {
   "cell_type": "markdown",
   "id": "91f8ffcc",
   "metadata": {},
   "source": [
    "### Question 2\n",
    "\n",
    "    2. Create a function that determines whether a string is a valid hex code.\n",
    "\n",
    "    A hex code must begin with a pound key # and is exactly 6 characters in length. Each character must be a digit from 0-9 or an alphabetic character from A-F. All alphabetic characters may be uppercase or lowercase.\n",
    "\n",
    "    Examples\n",
    "\n",
    "    is_valid_hex_code(\"#CD5C5C\") ➞ True\n",
    "\n",
    "    is_valid_hex_code(\"#EAECEE\") ➞ True\n",
    "\n",
    "    is_valid_hex_code(\"#eaecee\") ➞ True\n",
    "\n",
    "    is_valid_hex_code(\"#CD5C58C\") ➞ False\n",
    "\n",
    "    Length exceeds 6\n",
    "\n",
    "    is_valid_hex_code(\"#CD5C5Z\") ➞ False\n",
    "\n",
    "    Not all alphabetic characters in A-F\n",
    "\n",
    "    is_valid_hex_code(\"#CD5C&C\") ➞ False\n",
    "\n",
    "    Contains unacceptable character\n",
    "\n",
    "    is_valid_hex_code(\"CD5C5C\") ➞ False\n",
    "\n",
    "    Missing #"
   ]
  },
  {
   "cell_type": "code",
   "execution_count": 22,
   "id": "2e355b57",
   "metadata": {},
   "outputs": [],
   "source": [
    "def is_valid_hex_code(s):\n",
    "    if s[0] != \"#\":\n",
    "        return False\n",
    "    else:\n",
    "        s=s[1:]\n",
    "        for i in s:\n",
    "            if i.isalpha():\n",
    "                i=i.lower()\n",
    "                if ord(i)<97 or ord(i)>102:\n",
    "                    return False\n",
    "            elif i.isdigit():\n",
    "                if int(i)<0 or int(i)>9:\n",
    "                    return False\n",
    "            else:\n",
    "                return False\n",
    "        return True\n",
    "                    "
   ]
  },
  {
   "cell_type": "code",
   "execution_count": 23,
   "id": "076f1b94",
   "metadata": {},
   "outputs": [
    {
     "data": {
      "text/plain": [
       "True"
      ]
     },
     "execution_count": 23,
     "metadata": {},
     "output_type": "execute_result"
    }
   ],
   "source": [
    "is_valid_hex_code(\"#CD5C5C\")"
   ]
  },
  {
   "cell_type": "code",
   "execution_count": 24,
   "id": "a2d33be9",
   "metadata": {},
   "outputs": [
    {
     "data": {
      "text/plain": [
       "True"
      ]
     },
     "execution_count": 24,
     "metadata": {},
     "output_type": "execute_result"
    }
   ],
   "source": [
    "is_valid_hex_code(\"#EAECEE\")"
   ]
  },
  {
   "cell_type": "code",
   "execution_count": 25,
   "id": "ad77e722",
   "metadata": {},
   "outputs": [
    {
     "data": {
      "text/plain": [
       "True"
      ]
     },
     "execution_count": 25,
     "metadata": {},
     "output_type": "execute_result"
    }
   ],
   "source": [
    "is_valid_hex_code(\"#eaecee\")"
   ]
  },
  {
   "cell_type": "code",
   "execution_count": 26,
   "id": "87c81501",
   "metadata": {},
   "outputs": [
    {
     "data": {
      "text/plain": [
       "True"
      ]
     },
     "execution_count": 26,
     "metadata": {},
     "output_type": "execute_result"
    }
   ],
   "source": [
    "is_valid_hex_code(\"#CD5C58C\")"
   ]
  },
  {
   "cell_type": "code",
   "execution_count": 27,
   "id": "50609019",
   "metadata": {},
   "outputs": [
    {
     "data": {
      "text/plain": [
       "False"
      ]
     },
     "execution_count": 27,
     "metadata": {},
     "output_type": "execute_result"
    }
   ],
   "source": [
    "is_valid_hex_code(\"#CD5C5Z\")"
   ]
  },
  {
   "cell_type": "code",
   "execution_count": 28,
   "id": "33021c0d",
   "metadata": {},
   "outputs": [
    {
     "data": {
      "text/plain": [
       "False"
      ]
     },
     "execution_count": 28,
     "metadata": {},
     "output_type": "execute_result"
    }
   ],
   "source": [
    "is_valid_hex_code(\"#CD5C&C\")"
   ]
  },
  {
   "cell_type": "code",
   "execution_count": 29,
   "id": "a8fe4cc4",
   "metadata": {},
   "outputs": [
    {
     "data": {
      "text/plain": [
       "False"
      ]
     },
     "execution_count": 29,
     "metadata": {},
     "output_type": "execute_result"
    }
   ],
   "source": [
    "is_valid_hex_code(\"CD5C5C\")"
   ]
  },
  {
   "cell_type": "markdown",
   "id": "696d9ae9",
   "metadata": {},
   "source": [
    "### Question 3\n",
    "    3. Given a list of math equations (given as strings), return the percentage of correct answers as a string. Round to the nearest whole number.\n",
    "\n",
    "    Examples\n",
    "\n",
    "    mark_maths([\"2+2=4\", \"3+2=5\", \"10-3=3\", \"5+5=10\"]) ➞ \"75%\"\n",
    "\n",
    "    mark_maths([\"1-2=-2\"]), \"0%\"\n",
    "\n",
    "    mark_maths([\"2+3=5\", \"4+4=9\", \"3-1=2\"]) ➞ \"67%\""
   ]
  },
  {
   "cell_type": "code",
   "execution_count": 140,
   "id": "e07513d0",
   "metadata": {},
   "outputs": [],
   "source": [
    "\n",
    "def mark_maths(lst):\n",
    "    sign=[\"+\",\"-\",\"=\"]\n",
    "    res=0\n",
    "    for exp in lst:\n",
    "        temp=[]\n",
    "        start = 0\n",
    "        for i in range(0,len(exp)-1):\n",
    "            if exp[i]== '=':\n",
    "                temp.append(exp[i+1:])\n",
    "            elif exp[i+1] in sign and exp[i].isdigit():\n",
    "                temp.append(exp[start:i+1])\n",
    "                start=i+1\n",
    "        if(int(temp[0])+int(temp[1])==int(temp[2])):\n",
    "            res+=1\n",
    "    return (str(round((res/len(lst))*100)) +\"%\" )   "
   ]
  },
  {
   "cell_type": "code",
   "execution_count": 139,
   "id": "d2b6f9e2",
   "metadata": {},
   "outputs": [
    {
     "data": {
      "text/plain": [
       "'75%'"
      ]
     },
     "execution_count": 139,
     "metadata": {},
     "output_type": "execute_result"
    }
   ],
   "source": [
    "mark_maths([\"2+2=4\", \"3+2=5\", \"10-3=3\", \"5+5=10\"])"
   ]
  },
  {
   "cell_type": "code",
   "execution_count": 138,
   "id": "1644d14d",
   "metadata": {},
   "outputs": [
    {
     "data": {
      "text/plain": [
       "'0%'"
      ]
     },
     "execution_count": 138,
     "metadata": {},
     "output_type": "execute_result"
    }
   ],
   "source": [
    "mark_maths([\"1-2=-2\"])"
   ]
  },
  {
   "cell_type": "code",
   "execution_count": 141,
   "id": "3ded5fa8",
   "metadata": {},
   "outputs": [
    {
     "data": {
      "text/plain": [
       "'67%'"
      ]
     },
     "execution_count": 141,
     "metadata": {},
     "output_type": "execute_result"
    }
   ],
   "source": [
    "mark_maths([\"2+3=5\", \"4+4=9\", \"3-1=2\"])"
   ]
  },
  {
   "cell_type": "markdown",
   "id": "dc761770",
   "metadata": {},
   "source": [
    "### Question 4 \n",
    "   4. There are two players, Alice and Bob, each with a 3-by-3 grid. A referee tells Alice to fill out one particular row in the grid (say the second row) by putting either a 1 or a 0 in each box, such that the sum of the numbers in that row is odd. The referee tells Bob to fill out one column in the grid (say the first column) by putting either a 1 or a 0 in each box, such that the sum of the numbers in that column is even.\n",
    "\n",
    "    Alice and Bob win the game if Alice’s numbers give an odd sum, Bob’s give an even sum, and (most important) they’ve each written down the same number in the one square where their row and column intersect.\n",
    "\n",
    "    Examples\n",
    "\n",
    "    magic_square_game([2, \"100\"], [1, \"101\"]) ➞ False\n",
    "\n",
    "    magic_square_game([2, \"001\"], [1, \"101\"]) ➞ True\n",
    "\n",
    "    magic_square_game([3, \"111\"], [2, \"011\"]) ➞ True\n",
    "\n",
    "    magic_square_game([1, \"010\"], [3, \"101\"]) ➞ False\n",
    "\n",
    "    Two lists, Alice [row,\"her choice\"], Bob [column, \"his choice\"]\n"
   ]
  },
  {
   "cell_type": "code",
   "execution_count": 84,
   "id": "8d4d6793",
   "metadata": {},
   "outputs": [],
   "source": [
    "def my_sum(s):\n",
    "    c=0\n",
    "    for i in s:\n",
    "        c+=int(i)\n",
    "    return c\n",
    "    \n",
    "def magic_square_game(alice,bob):\n",
    "    row=alice[0]-1\n",
    "    column=bob[0]-1\n",
    "    ac=alice[1]\n",
    "    bc=bob[1]\n",
    "\n",
    "    if my_sum(ac)%2 != 0 and my_sum(bc)%2 == 0:\n",
    "        if ac[column]==bc[row]:\n",
    "            return True\n",
    "        else:\n",
    "            return False\n",
    "    else:\n",
    "        return False\n"
   ]
  },
  {
   "cell_type": "code",
   "execution_count": 85,
   "id": "c643d0e3",
   "metadata": {},
   "outputs": [
    {
     "data": {
      "text/plain": [
       "False"
      ]
     },
     "execution_count": 85,
     "metadata": {},
     "output_type": "execute_result"
    }
   ],
   "source": [
    "magic_square_game([1, \"010\"], [3, \"101\"])"
   ]
  },
  {
   "cell_type": "code",
   "execution_count": 73,
   "id": "922051e8",
   "metadata": {},
   "outputs": [
    {
     "data": {
      "text/plain": [
       "False"
      ]
     },
     "execution_count": 73,
     "metadata": {},
     "output_type": "execute_result"
    }
   ],
   "source": [
    "magic_square_game([2, \"100\"], [1, \"101\"])"
   ]
  },
  {
   "cell_type": "code",
   "execution_count": 78,
   "id": "c5d8d1a0",
   "metadata": {},
   "outputs": [
    {
     "data": {
      "text/plain": [
       "True"
      ]
     },
     "execution_count": 78,
     "metadata": {},
     "output_type": "execute_result"
    }
   ],
   "source": [
    "magic_square_game([2, \"001\"], [1, \"101\"]) "
   ]
  },
  {
   "cell_type": "code",
   "execution_count": 79,
   "id": "959c7e5e",
   "metadata": {},
   "outputs": [
    {
     "data": {
      "text/plain": [
       "True"
      ]
     },
     "execution_count": 79,
     "metadata": {},
     "output_type": "execute_result"
    }
   ],
   "source": [
    "magic_square_game([3, \"111\"], [2, \"011\"])"
   ]
  },
  {
   "cell_type": "markdown",
   "id": "59c7ee74",
   "metadata": {},
   "source": [
    "### Question 5\n",
    "\n",
    "    5. From point A, an object is moving towards point B at constant velocity va (in km/hr). From point B, another object is moving towards point A at constant velocity vb (in km/hr). Knowing this and the distance between point A and B (in km), write a function that returns how much time passes until both objects meet.\n",
    "\n",
    "    Format the output like this:\n",
    "\n",
    "    \"2h 23min 34s\"\n",
    "\n",
    "    Examples\n",
    "\n",
    "    lets_meet(100, 10, 30) ➞ \"2h 30min 0s\"\n",
    "\n",
    "    lets_meet(280, 70, 80) ➞ \"1h 52min 0s\"\n",
    "\n",
    "    lets_meet(90, 75, 65) ➞ \"0h 38min 34s\""
   ]
  },
  {
   "cell_type": "code",
   "execution_count": 98,
   "id": "a3a0bab5",
   "metadata": {},
   "outputs": [],
   "source": [
    "def lets_meet(distance,Va,Vb):\n",
    "    \n",
    "    time=distance/(Va+Vb)\n",
    "    hour = int(time)\n",
    "    min = (time*60) % 60.\n",
    "    sec = (time*3600) % 60.\n",
    "    return \"%02dh:%02dmin:%02ds\" % (hour, min, sec)"
   ]
  },
  {
   "cell_type": "code",
   "execution_count": 99,
   "id": "8238b1a4",
   "metadata": {},
   "outputs": [
    {
     "data": {
      "text/plain": [
       "'02h:30min:00s'"
      ]
     },
     "execution_count": 99,
     "metadata": {},
     "output_type": "execute_result"
    }
   ],
   "source": [
    "lets_meet(100, 10, 30)"
   ]
  },
  {
   "cell_type": "code",
   "execution_count": 100,
   "id": "b8054052",
   "metadata": {},
   "outputs": [
    {
     "data": {
      "text/plain": [
       "'01h:52min:00s'"
      ]
     },
     "execution_count": 100,
     "metadata": {},
     "output_type": "execute_result"
    }
   ],
   "source": [
    "lets_meet(280, 70, 80)"
   ]
  },
  {
   "cell_type": "code",
   "execution_count": 101,
   "id": "97c17f85",
   "metadata": {},
   "outputs": [
    {
     "data": {
      "text/plain": [
       "'00h:38min:34s'"
      ]
     },
     "execution_count": 101,
     "metadata": {},
     "output_type": "execute_result"
    }
   ],
   "source": [
    "lets_meet(90, 75, 65)"
   ]
  },
  {
   "cell_type": "code",
   "execution_count": null,
   "id": "30d43bd6",
   "metadata": {},
   "outputs": [],
   "source": []
  }
 ],
 "metadata": {
  "kernelspec": {
   "display_name": "Python 3",
   "language": "python",
   "name": "python3"
  },
  "language_info": {
   "codemirror_mode": {
    "name": "ipython",
    "version": 3
   },
   "file_extension": ".py",
   "mimetype": "text/x-python",
   "name": "python",
   "nbconvert_exporter": "python",
   "pygments_lexer": "ipython3",
   "version": "3.8.8"
  }
 },
 "nbformat": 4,
 "nbformat_minor": 5
}
