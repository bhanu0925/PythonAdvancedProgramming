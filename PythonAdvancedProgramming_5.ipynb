{
 "cells": [
  {
   "cell_type": "markdown",
   "metadata": {},
   "source": [
    "### PythonAdvancedProgramming_5"
   ]
  },
  {
   "cell_type": "markdown",
   "metadata": {},
   "source": [
    "### Question 1\n",
    "    1. Create a function that takes a number n (integer greater than zero) as an\n",
    "    argument, and returns 2 if n is odd and 8 if n is even.\n",
    "    You can only use the following arithmetic operators: addition of numbers +,\n",
    "    subtraction of numbers -, multiplication of number *, division of number /, and\n",
    "    exponentiation **.\n",
    "    You are not allowed to use any other methods in this challenge (i.e. no if\n",
    "    statements, comparison operators, etc).\n",
    "    Examples\n",
    "    f(1) ➞ 2\n",
    "    f(2) ➞ 8\n",
    "    f(3) ➞ 2\n"
   ]
  },
  {
   "cell_type": "code",
   "execution_count": 12,
   "metadata": {},
   "outputs": [],
   "source": [
    "def f(num):\n",
    "    evenOddList = [8,2]\n",
    "    return evenOddList[num & 1]\n"
   ]
  },
  {
   "cell_type": "code",
   "execution_count": 13,
   "metadata": {},
   "outputs": [
    {
     "data": {
      "text/plain": [
       "2"
      ]
     },
     "execution_count": 13,
     "metadata": {},
     "output_type": "execute_result"
    }
   ],
   "source": [
    "f(1)"
   ]
  },
  {
   "cell_type": "code",
   "execution_count": 14,
   "metadata": {},
   "outputs": [
    {
     "data": {
      "text/plain": [
       "8"
      ]
     },
     "execution_count": 14,
     "metadata": {},
     "output_type": "execute_result"
    }
   ],
   "source": [
    "f(2)"
   ]
  },
  {
   "cell_type": "code",
   "execution_count": 15,
   "metadata": {},
   "outputs": [
    {
     "data": {
      "text/plain": [
       "2"
      ]
     },
     "execution_count": 15,
     "metadata": {},
     "output_type": "execute_result"
    }
   ],
   "source": [
    "f(3)"
   ]
  },
  {
   "cell_type": "markdown",
   "metadata": {},
   "source": [
    "### Question 2\n",
    "    2. Create a function that returns the majority vote in a list. A majority vote is\n",
    "    an element that occurs > N/2 times in a list (where N is the length of the list).\n",
    "    Examples\n",
    "    majority_vote(['A', 'A', 'B']) ➞ 'A'\n",
    "    majority_vote(['A', 'A', 'A', 'B', 'C', 'A']) ➞ 'A'\n",
    "    majority_vote(['A', 'B', 'B', 'A', 'C', 'C']) ➞ None\n"
   ]
  },
  {
   "cell_type": "code",
   "execution_count": 57,
   "metadata": {},
   "outputs": [],
   "source": [
    "def majority_vote(lst):\n",
    "    done = []\n",
    "    maxCount = 0\n",
    "    count = 0\n",
    "    for i in lst:\n",
    "        if i not in done:\n",
    "            count = lst.count(i)\n",
    "            done.append(i)\n",
    "            if count > maxCount:\n",
    "                maxCount = count\n",
    "                ele = i\n",
    "\n",
    "    if maxCount > len(lst)//2:\n",
    "        maxCount = count\n",
    "        return \"Majority Element \",ele\n",
    "    else:\n",
    "        return \"no majority elements\" "
   ]
  },
  {
   "cell_type": "code",
   "execution_count": 58,
   "metadata": {},
   "outputs": [
    {
     "data": {
      "text/plain": [
       "('Majority Element ', 'A')"
      ]
     },
     "execution_count": 58,
     "metadata": {},
     "output_type": "execute_result"
    }
   ],
   "source": [
    "majority_vote(['A', 'A', 'B'])\n"
   ]
  },
  {
   "cell_type": "code",
   "execution_count": 59,
   "metadata": {},
   "outputs": [
    {
     "data": {
      "text/plain": [
       "('Majority Element ', 'A')"
      ]
     },
     "execution_count": 59,
     "metadata": {},
     "output_type": "execute_result"
    }
   ],
   "source": [
    "majority_vote(['A', 'A', 'A', 'B', 'C', 'A'])"
   ]
  },
  {
   "cell_type": "code",
   "execution_count": 60,
   "metadata": {},
   "outputs": [
    {
     "data": {
      "text/plain": [
       "'no majority elements'"
      ]
     },
     "execution_count": 60,
     "metadata": {},
     "output_type": "execute_result"
    }
   ],
   "source": [
    "majority_vote(['A', 'B', 'B', 'A', 'C', 'C'])"
   ]
  },
  {
   "cell_type": "markdown",
   "metadata": {},
   "source": [
    "### Question 3\n",
    "\n",
    "    3. Create a function that takes a string txt and censors any word from a given\n",
    "    list lst. The text removed must be replaced by the given character char.\n",
    "    Examples\n",
    "    censor_string('Today is a Wednesday!', ['Today', 'a'], '-') ➞ '----- is -\n",
    "    Wednesday!'\n",
    "    censor_string('The cow jumped over the moon.', ['cow', 'over'], '*'), 'The ***\n",
    "    jumped **** the moon.')\n",
    "    censor_string('Why did the chicken cross the road?', ['Did', 'chicken',\n",
    "    'road'], '*') ➞ 'Why *** the ******* cross the ****?'\n",
    "\n"
   ]
  },
  {
   "cell_type": "code",
   "execution_count": 150,
   "metadata": {},
   "outputs": [],
   "source": [
    "def censor_string(text, censorlst, replacer):\n",
    "\n",
    "    word_list = text.split()\n",
    "    for censor in censorlst:\n",
    "        index = 0\n",
    "        for word in word_list:\n",
    "            if censor.lower() == word.lower():\n",
    "                ch = len(censor) * replacer\n",
    "                word_list[index] = ch\n",
    "            elif censor.lower() == word[0:-1].lower():\n",
    "                ch = len(censor) * replacer\n",
    "                word_list[index] = ch+word[-1]\n",
    "            index+=1\n",
    "\n",
    "    return \" \".join(word_list)"
   ]
  },
  {
   "cell_type": "code",
   "execution_count": 151,
   "metadata": {},
   "outputs": [
    {
     "data": {
      "text/plain": [
       "'----- is - Wednesday!'"
      ]
     },
     "execution_count": 151,
     "metadata": {},
     "output_type": "execute_result"
    }
   ],
   "source": [
    "censor_string('Today is a Wednesday!', ['Today', 'a'], '-')"
   ]
  },
  {
   "cell_type": "code",
   "execution_count": 152,
   "metadata": {},
   "outputs": [
    {
     "data": {
      "text/plain": [
       "'The *** jumped **** the moon.'"
      ]
     },
     "execution_count": 152,
     "metadata": {},
     "output_type": "execute_result"
    }
   ],
   "source": [
    "censor_string('The cow jumped over the moon.', ['cow', 'over'], '*')"
   ]
  },
  {
   "cell_type": "code",
   "execution_count": 153,
   "metadata": {},
   "outputs": [
    {
     "data": {
      "text/plain": [
       "'Why *** the ******* cross the ****?'"
      ]
     },
     "execution_count": 153,
     "metadata": {},
     "output_type": "execute_result"
    }
   ],
   "source": [
    "censor_string('Why did the chicken cross the road?', ['Did', 'chicken','road'], '*')"
   ]
  },
  {
   "cell_type": "markdown",
   "metadata": {},
   "source": [
    "### Question 4\n",
    "    4. In mathematics a Polydivisible Number (or magic number) is a number in a\n",
    "    given number base with digits abcde... that has the following properties:\n",
    "    - Its first digit a is not 0.\n",
    "    - The number formed by its first two digits ab is a multiple of 2.\n",
    "    - The number formed by its first three digits abc is a multiple of 3.\n",
    "    - The number formed by its first four digits abcd is a multiple of 4.\n",
    "    Create a function which takes an integer n and returns True if the given\n",
    "    number is a Polydivisible Number and False otherwise.\n",
    "    Examples\n",
    "    is_polydivisible(1232) ➞ True\n",
    "    # 1 / 1 = 1\n",
    "    # 12 / 2 = 6\n",
    "    # 123 / 3 = 41\n",
    "    # 1232 / 4 = 308\n",
    "    is_polydivisible(123220 ) ➞ False\n",
    "    # 1 / 1 = 1\n",
    "    # 12 / 2 = 6\n",
    "    # 123 / 3 = 41\n",
    "    # 1232 / 4 = 308\n",
    "    # 12322 / 5 = 2464.4 # Not a Whole Number\n",
    "    # 123220 /6 = 220536.333... # Not a Whole Number\n"
   ]
  },
  {
   "cell_type": "code",
   "execution_count": 63,
   "metadata": {},
   "outputs": [],
   "source": [
    "def is_polydivisible(n):\n",
    "    tempNum = n\n",
    "    digit = []\n",
    "  \n",
    "    # digit extraction of input number\n",
    "    while (n > 0):          \n",
    "        digit.append(n % 10)\n",
    "        n /= 10\n",
    "  \n",
    "    digit.reverse()\n",
    "  \n",
    "    flag = True\n",
    "    n = digit[0]\n",
    "    for i in range(1, len(digit)):\n",
    "\n",
    "        n = n * 10 + digit[i] # second digit  \n",
    "   \n",
    "        if (n % (i + 1) != 0):\n",
    "            flag = False\n",
    "            break\n",
    "      \n",
    "    if (flag):\n",
    "        return tempNum, \"is Polydivisible number.\"\n",
    "    else:\n",
    "        return tempNum, \"is Not Polydivisible number.\"\n"
   ]
  },
  {
   "cell_type": "code",
   "execution_count": 64,
   "metadata": {},
   "outputs": [
    {
     "data": {
      "text/plain": [
       "(1232, 'is Not Polydivisible number.')"
      ]
     },
     "execution_count": 64,
     "metadata": {},
     "output_type": "execute_result"
    }
   ],
   "source": [
    "is_polydivisible(1232)"
   ]
  },
  {
   "cell_type": "code",
   "execution_count": 65,
   "metadata": {},
   "outputs": [
    {
     "data": {
      "text/plain": [
       "(123220, 'is Not Polydivisible number.')"
      ]
     },
     "execution_count": 65,
     "metadata": {},
     "output_type": "execute_result"
    }
   ],
   "source": [
    "is_polydivisible(123220)"
   ]
  },
  {
   "cell_type": "markdown",
   "metadata": {},
   "source": [
    "### Question 5\n",
    "    5. Create a function that takes a list of numbers and returns the sum of all\n",
    "    prime numbers in the list.\n",
    "    Examples\n",
    "    sum_primes([1, 2, 3, 4, 5, 6, 7, 8, 9, 10]) ➞ 17\n",
    "    sum_primes([2, 3, 4, 11, 20, 50, 71]) ➞ 87\n",
    "    sum_primes([]) ➞ None"
   ]
  },
  {
   "cell_type": "code",
   "execution_count": 128,
   "metadata": {},
   "outputs": [],
   "source": [
    "def is_prime(n):\n",
    "    if n < 2:\n",
    "        return False\n",
    "    elif n <= 3:\n",
    "        return True\n",
    "    elif n % 2 == 0:\n",
    "        return False\n",
    "  \n",
    "    length = int(n**.5) + 1  # n**.5 is equal to sqrt(n)\n",
    "    for i in range(3, length, 2):\n",
    "        if n % i == 0:\n",
    "            return False\n",
    "\n",
    "    return True\n",
    "def sum_primes(l):\n",
    "    return sum(n for n in l if is_prime(n))"
   ]
  },
  {
   "cell_type": "code",
   "execution_count": 129,
   "metadata": {},
   "outputs": [
    {
     "data": {
      "text/plain": [
       "17"
      ]
     },
     "execution_count": 129,
     "metadata": {},
     "output_type": "execute_result"
    }
   ],
   "source": [
    "sum_primes([1, 2, 3, 4, 5, 6, 7, 8, 9, 10])"
   ]
  },
  {
   "cell_type": "code",
   "execution_count": 130,
   "metadata": {},
   "outputs": [
    {
     "data": {
      "text/plain": [
       "87"
      ]
     },
     "execution_count": 130,
     "metadata": {},
     "output_type": "execute_result"
    }
   ],
   "source": [
    "sum_primes([2, 3, 4, 11, 20, 50, 71])"
   ]
  },
  {
   "cell_type": "code",
   "execution_count": 131,
   "metadata": {},
   "outputs": [
    {
     "data": {
      "text/plain": [
       "0"
      ]
     },
     "execution_count": 131,
     "metadata": {},
     "output_type": "execute_result"
    }
   ],
   "source": [
    "sum_primes([])"
   ]
  },
  {
   "cell_type": "code",
   "execution_count": null,
   "metadata": {},
   "outputs": [],
   "source": []
  }
 ],
 "metadata": {
  "kernelspec": {
   "display_name": "Python 3",
   "language": "python",
   "name": "python3"
  },
  "language_info": {
   "codemirror_mode": {
    "name": "ipython",
    "version": 3
   },
   "file_extension": ".py",
   "mimetype": "text/x-python",
   "name": "python",
   "nbconvert_exporter": "python",
   "pygments_lexer": "ipython3",
   "version": "3.8.8"
  }
 },
 "nbformat": 4,
 "nbformat_minor": 4
}
