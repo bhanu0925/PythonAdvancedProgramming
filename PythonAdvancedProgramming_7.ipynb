{
 "cells": [
  {
   "cell_type": "markdown",
   "metadata": {},
   "source": [
    "## PythonAdvancedProgramming_7"
   ]
  },
  {
   "cell_type": "markdown",
   "metadata": {},
   "source": [
    "### Question 1\n",
    "    1. Write a function that counts how many concentric layers a rug.\n",
    "    Examples\n",
    "    count_layers([\n",
    "    'AAAA',\n",
    "    'ABBA',\n",
    "    'AAAA'\n",
    "    ]) ➞ 2\n",
    "    count_layers([\n",
    "    'AAAAAAAAA',\n",
    "    'ABBBBBBBA',\n",
    "    'ABBAAABBA',\n",
    "    'ABBBBBBBA',\n",
    "    'AAAAAAAAA'\n",
    "    ]) ➞ 3\n",
    "    count_layers([\n",
    "    'AAAAAAAAAAA',\n",
    "    'AABBBBBBBAA',\n",
    "    'AABCCCCCBAA',\n",
    "    'AABCAAACBAA',\n",
    "    'AABCADACBAA',\n",
    "    'AABCAAACBAA',\n",
    "    'AABCCCCCBAA',\n",
    "    'AABBBBBBBAA',\n",
    "    'AAAAAAAAAAA'\n",
    "    ]) ➞ 5"
   ]
  },
  {
   "cell_type": "code",
   "execution_count": 75,
   "metadata": {},
   "outputs": [],
   "source": [
    "def count_layers(lst):\n",
    "    layers = lenth = len(lst)\n",
    "    if layers % 2 == 0:\n",
    "        print(\"Not a concentric layers\")\n",
    "    else:\n",
    "        mid = len(lst)//2\n",
    "    i = 0\n",
    "    layerCnt = 0\n",
    "    while (i <= mid):     # since concetric layers will be symetric, checking for half of the layers\n",
    "        print(lst[lenth-1])\n",
    "        if lst[i] == lst[lenth-1]: \n",
    "            layerCnt +=1\n",
    "            lenth -=1\n",
    "            i +=1\n",
    "        else:\n",
    "            print('not a concentric layer')\n",
    "            return False\n",
    "    return \"Number of layers -> \",layerCnt"
   ]
  },
  {
   "cell_type": "code",
   "execution_count": 76,
   "metadata": {},
   "outputs": [
    {
     "name": "stdout",
     "output_type": "stream",
     "text": [
      "AAAA\n",
      "ABBA\n"
     ]
    },
    {
     "data": {
      "text/plain": [
       "('Number of layers -> ', 2)"
      ]
     },
     "execution_count": 76,
     "metadata": {},
     "output_type": "execute_result"
    }
   ],
   "source": [
    "count_layers([\n",
    "'AAAA',\n",
    "'ABBA',\n",
    "'AAAA'\n",
    "])"
   ]
  },
  {
   "cell_type": "code",
   "execution_count": 77,
   "metadata": {},
   "outputs": [
    {
     "name": "stdout",
     "output_type": "stream",
     "text": [
      "AAAAAAAAA\n",
      "ABBBBBBBA\n",
      "ABBAAABBA\n"
     ]
    },
    {
     "data": {
      "text/plain": [
       "('Number of layers -> ', 3)"
      ]
     },
     "execution_count": 77,
     "metadata": {},
     "output_type": "execute_result"
    }
   ],
   "source": [
    "count_layers([\n",
    "'AAAAAAAAA',\n",
    "'ABBBBBBBA',\n",
    "'ABBAAABBA',\n",
    "'ABBBBBBBA',\n",
    "'AAAAAAAAA'\n",
    "])"
   ]
  },
  {
   "cell_type": "code",
   "execution_count": 78,
   "metadata": {},
   "outputs": [
    {
     "name": "stdout",
     "output_type": "stream",
     "text": [
      "AAAAAAAAAAA\n",
      "AABBBBBBBAA\n",
      "AABCCCCCBAA\n",
      "AABCAAACBAA\n",
      "AABCADACBAA\n"
     ]
    },
    {
     "data": {
      "text/plain": [
       "('Number of layers -> ', 5)"
      ]
     },
     "execution_count": 78,
     "metadata": {},
     "output_type": "execute_result"
    }
   ],
   "source": [
    "count_layers([\n",
    "'AAAAAAAAAAA',\n",
    "'AABBBBBBBAA',\n",
    "'AABCCCCCBAA',\n",
    "'AABCAAACBAA',\n",
    "'AABCADACBAA',\n",
    "'AABCAAACBAA',\n",
    "'AABCCCCCBAA',\n",
    "'AABBBBBBBAA',\n",
    "'AAAAAAAAAAA'\n",
    "])"
   ]
  },
  {
   "cell_type": "markdown",
   "metadata": {},
   "source": [
    "### Question 2\n",
    "    2. There are many different styles of music and many albums exhibit multiple\n",
    "    styles. Create a function that takes a list of musical styles from albums and\n",
    "    returns how many styles are unique.\n",
    "    Examples\n",
    "    unique_styles([\n",
    "    'Dub,Dancehall',\n",
    "    'Industrial,Heavy Metal',\n",
    "    'Techno,Dubstep',\n",
    "    'Synth-pop,Euro-Disco',\n",
    "    'Industrial,Techno,Minimal'\n",
    "    ]) ➞ 9\n",
    "    unique_styles([\n",
    "\n",
    "    'Soul',\n",
    "    'House,Folk',\n",
    "    'Trance,Downtempo,Big Beat,House',\n",
    "    'Deep House',\n",
    "    'Soul'\n",
    "    ]) ➞ 7"
   ]
  },
  {
   "cell_type": "code",
   "execution_count": 79,
   "metadata": {},
   "outputs": [],
   "source": [
    "def unique_styles(lst):\n",
    "    uplst = []\n",
    "    for i in lst:\n",
    "        uplst.extend(i.split(','))\n",
    "    return \"unique style \",len(set(uplst))"
   ]
  },
  {
   "cell_type": "code",
   "execution_count": 80,
   "metadata": {},
   "outputs": [
    {
     "data": {
      "text/plain": [
       "('unique style ', 9)"
      ]
     },
     "execution_count": 80,
     "metadata": {},
     "output_type": "execute_result"
    }
   ],
   "source": [
    "unique_styles([\n",
    "'Dub,Dancehall',\n",
    "'Industrial,Heavy Metal',\n",
    "'Techno,Dubstep',\n",
    "'Synth-pop,Euro-Disco',\n",
    "'Industrial,Techno,Minimal'\n",
    "])"
   ]
  },
  {
   "cell_type": "code",
   "execution_count": 81,
   "metadata": {},
   "outputs": [
    {
     "data": {
      "text/plain": [
       "('unique style ', 7)"
      ]
     },
     "execution_count": 81,
     "metadata": {},
     "output_type": "execute_result"
    }
   ],
   "source": [
    "unique_styles([\n",
    "'Soul',\n",
    "'House,Folk',\n",
    "'Trance,Downtempo,Big Beat,House',\n",
    "'Deep House',\n",
    "'Soul'\n",
    "])"
   ]
  },
  {
   "cell_type": "markdown",
   "metadata": {},
   "source": [
    "### question 3\n",
    "    3. Create a function that finds a target number in a list of prime numbers.\n",
    "    Implement a binary search algorithm in your function. The target number will\n",
    "    be from 2 through 97. If the target is prime then return 'yes' else return 'no'.\n",
    "    Examples\n",
    "    primes = [2, 3, 5, 7, 11, 13, 17, 19, 23, 29, 31, 37, 41, 43, 47, 53, 59, 61, 67,\n",
    "    71, 73, 79, 83, 89, 97]\n",
    "\n",
    "    is_prime(primes, 3) ➞ 'yes'\n",
    "    is_prime(primes, 4) ➞ 'no'\n",
    "    is_prime(primes, 67) ➞ 'yes'\n",
    "    is_prime(primes, 36) ➞ 'no'\n"
   ]
  },
  {
   "cell_type": "code",
   "execution_count": 82,
   "metadata": {},
   "outputs": [],
   "source": [
    "primes = [2, 3, 5, 7, 11, 13, 17, 19, 23, 29, 31, 37, 41, 43, 47, 53, 59, 61, 67,71, 73, 79, 83, 89, 97]\n",
    "\n",
    "def is_prime(primes,item):\n",
    "    first = 0\n",
    "    last = len(primes)-1\n",
    "    found = False\n",
    "    yes = 'No'\n",
    "    while( first<=last and not found):\n",
    "        mid = (first + last)//2\n",
    "        if primes[mid] == item :\n",
    "            found = True\n",
    "            yes = 'Yes'\n",
    "        else:\n",
    "            if item < primes[mid]:\n",
    "                last = mid - 1\n",
    "            else:\n",
    "                first = mid + 1\t\n",
    "    return yes"
   ]
  },
  {
   "cell_type": "code",
   "execution_count": 83,
   "metadata": {},
   "outputs": [
    {
     "data": {
      "text/plain": [
       "'Yes'"
      ]
     },
     "execution_count": 83,
     "metadata": {},
     "output_type": "execute_result"
    }
   ],
   "source": [
    "is_prime(primes, 3)"
   ]
  },
  {
   "cell_type": "code",
   "execution_count": 84,
   "metadata": {},
   "outputs": [
    {
     "data": {
      "text/plain": [
       "'No'"
      ]
     },
     "execution_count": 84,
     "metadata": {},
     "output_type": "execute_result"
    }
   ],
   "source": [
    "is_prime(primes, 4)"
   ]
  },
  {
   "cell_type": "code",
   "execution_count": 85,
   "metadata": {},
   "outputs": [
    {
     "data": {
      "text/plain": [
       "'Yes'"
      ]
     },
     "execution_count": 85,
     "metadata": {},
     "output_type": "execute_result"
    }
   ],
   "source": [
    "is_prime(primes, 67)"
   ]
  },
  {
   "cell_type": "code",
   "execution_count": 86,
   "metadata": {},
   "outputs": [
    {
     "data": {
      "text/plain": [
       "'No'"
      ]
     },
     "execution_count": 86,
     "metadata": {},
     "output_type": "execute_result"
    }
   ],
   "source": [
    "is_prime(primes, 36)"
   ]
  },
  {
   "cell_type": "markdown",
   "metadata": {},
   "source": [
    "### Question 4\n",
    "    4. Create a function that takes in n, a, b and returns the number of positive\n",
    "    values raised to the nth power that lie in the range [a, b], inclusive.\n",
    "    Examples\n",
    "    power_ranger(2, 49, 65) ➞ 2\n",
    "    # 2 squares (n^2) lie between 49 and 65, 49 (7^2) and 64 (8^2)\n",
    "    power_ranger(3, 1, 27) ➞ 3\n",
    "    # 3 cubes (n^3) lie between 1 and 27, 1 (1^3), 8 (2^3) and 27 (3^3)\n",
    "    power_ranger(10, 1, 5) ➞ 1\n",
    "    # 1 value raised to the 10th power lies between 1 and 5, 1 (1^10)\n",
    "    power_ranger(5, 31, 33) ➞ 1\n",
    "    power_ranger(4, 250, 1300) ➞ 3\n",
    "\n"
   ]
  },
  {
   "cell_type": "code",
   "execution_count": 87,
   "metadata": {},
   "outputs": [],
   "source": [
    "def power_ranger(n, min, max):\n",
    "    count = 0 \n",
    "    #n, min, max = map(int,input('Enter number, min, max values: ').split()) \n",
    "    for i in range(max): \n",
    "        if i**n in range(min,max): \n",
    "            print('{}^{} lies between {} and {}'.format(i,n,min,max)) \n",
    "            count += 1 \n",
    "    return 'Total values found =',count"
   ]
  },
  {
   "cell_type": "code",
   "execution_count": 88,
   "metadata": {},
   "outputs": [
    {
     "name": "stdout",
     "output_type": "stream",
     "text": [
      "7^2 lies between 49 and 65\n",
      "8^2 lies between 49 and 65\n"
     ]
    },
    {
     "data": {
      "text/plain": [
       "('Total values found =', 2)"
      ]
     },
     "execution_count": 88,
     "metadata": {},
     "output_type": "execute_result"
    }
   ],
   "source": [
    "power_ranger(2, 49, 65)"
   ]
  },
  {
   "cell_type": "code",
   "execution_count": 89,
   "metadata": {},
   "outputs": [
    {
     "name": "stdout",
     "output_type": "stream",
     "text": [
      "1^3 lies between 1 and 27\n",
      "2^3 lies between 1 and 27\n"
     ]
    },
    {
     "data": {
      "text/plain": [
       "('Total values found =', 2)"
      ]
     },
     "execution_count": 89,
     "metadata": {},
     "output_type": "execute_result"
    }
   ],
   "source": [
    "power_ranger(3, 1, 27)"
   ]
  },
  {
   "cell_type": "code",
   "execution_count": 90,
   "metadata": {},
   "outputs": [
    {
     "name": "stdout",
     "output_type": "stream",
     "text": [
      "1^10 lies between 1 and 5\n"
     ]
    },
    {
     "data": {
      "text/plain": [
       "('Total values found =', 1)"
      ]
     },
     "execution_count": 90,
     "metadata": {},
     "output_type": "execute_result"
    }
   ],
   "source": [
    "power_ranger(10, 1, 5)"
   ]
  },
  {
   "cell_type": "code",
   "execution_count": 91,
   "metadata": {},
   "outputs": [
    {
     "name": "stdout",
     "output_type": "stream",
     "text": [
      "2^5 lies between 31 and 33\n"
     ]
    },
    {
     "data": {
      "text/plain": [
       "('Total values found =', 1)"
      ]
     },
     "execution_count": 91,
     "metadata": {},
     "output_type": "execute_result"
    }
   ],
   "source": [
    "power_ranger(5, 31, 33)"
   ]
  },
  {
   "cell_type": "code",
   "execution_count": 92,
   "metadata": {},
   "outputs": [
    {
     "name": "stdout",
     "output_type": "stream",
     "text": [
      "4^4 lies between 250 and 1300\n",
      "5^4 lies between 250 and 1300\n",
      "6^4 lies between 250 and 1300\n"
     ]
    },
    {
     "data": {
      "text/plain": [
       "('Total values found =', 3)"
      ]
     },
     "execution_count": 92,
     "metadata": {},
     "output_type": "execute_result"
    }
   ],
   "source": [
    "power_ranger(4, 250, 1300)"
   ]
  },
  {
   "cell_type": "markdown",
   "metadata": {},
   "source": [
    "### Question 5\n",
    "    5. Given a number, return the difference between the maximum and minimum\n",
    "    numbers that can be formed when the digits are rearranged.\n",
    "    Examples\n",
    "    rearranged_difference(972882) ➞ 760833\n",
    "    # 988722 - 227889 = 760833\n",
    "    rearranged_difference(3320707) ➞ 7709823\n",
    "    # 7733200 - 23377 = 7709823\n",
    "    rearranged_difference(90010) ➞ 90981\n",
    "    # 91000 - 19 = 90981"
   ]
  },
  {
   "cell_type": "code",
   "execution_count": 100,
   "metadata": {},
   "outputs": [],
   "source": [
    "def findDigit(n):\n",
    "    rev = 0\n",
    "    digit = [] \n",
    "    while(n > 0): \n",
    "        a = n % 10\n",
    "        rev = rev * 10 + a \n",
    "        digit.append(a)\n",
    "        n = n // 10  \n",
    "    return digit\n",
    "    \n",
    "\n",
    "def findMax(digit):\n",
    "    max = int(''.join([str(i) for i in sorted(digit,reverse = True)]))\n",
    "    return max\n",
    "      \n",
    "def finMin(digit):  \n",
    "    min = int(''.join([str(i) for i in sorted(digit,reverse = False)]))\n",
    "    return min\n",
    "def rearranged_difference(n):\n",
    "    digit = findDigit(n)\n",
    "    return findMax(digit) - finMin(digit)\n"
   ]
  },
  {
   "cell_type": "code",
   "execution_count": 101,
   "metadata": {},
   "outputs": [
    {
     "data": {
      "text/plain": [
       "760833"
      ]
     },
     "execution_count": 101,
     "metadata": {},
     "output_type": "execute_result"
    }
   ],
   "source": [
    "rearranged_difference(972882)"
   ]
  },
  {
   "cell_type": "code",
   "execution_count": 102,
   "metadata": {},
   "outputs": [
    {
     "data": {
      "text/plain": [
       "7709823"
      ]
     },
     "execution_count": 102,
     "metadata": {},
     "output_type": "execute_result"
    }
   ],
   "source": [
    "rearranged_difference(3320707)"
   ]
  },
  {
   "cell_type": "code",
   "execution_count": 103,
   "metadata": {},
   "outputs": [
    {
     "data": {
      "text/plain": [
       "90981"
      ]
     },
     "execution_count": 103,
     "metadata": {},
     "output_type": "execute_result"
    }
   ],
   "source": [
    "rearranged_difference(90010)"
   ]
  }
 ],
 "metadata": {
  "kernelspec": {
   "display_name": "Python 3",
   "language": "python",
   "name": "python3"
  },
  "language_info": {
   "codemirror_mode": {
    "name": "ipython",
    "version": 3
   },
   "file_extension": ".py",
   "mimetype": "text/x-python",
   "name": "python",
   "nbconvert_exporter": "python",
   "pygments_lexer": "ipython3",
   "version": "3.8.8"
  }
 },
 "nbformat": 4,
 "nbformat_minor": 4
}
