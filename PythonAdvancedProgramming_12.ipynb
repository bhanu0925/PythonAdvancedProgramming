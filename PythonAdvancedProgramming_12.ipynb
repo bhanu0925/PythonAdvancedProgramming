{
 "cells": [
  {
   "cell_type": "markdown",
   "id": "bdad30c6",
   "metadata": {},
   "source": [
    "## PythonAdvancedProgramming_12"
   ]
  },
  {
   "cell_type": "markdown",
   "id": "35d65d3e",
   "metadata": {},
   "source": [
    "### Question 1\n",
    "    1. For this challenge, forget how to add two numbers together. The best\n",
    "    explanation on what to do for this function is this meme:\n",
    "\n",
    "    Examples\n",
    "    meme_sum(26, 39) ➞ 515\n",
    "    # 2+3 = 5, 6+9 = 15\n",
    "    # 26 + 39 = 515\n",
    "    meme_sum(122, 81) ➞ 1103\n",
    "    # 1+0 = 1, 2+8 = 10, 2+1 = 3\n",
    "    # 122 + 81 = 1103\n",
    "    meme_sum(1222, 30277) ➞ 31499\n"
   ]
  },
  {
   "cell_type": "code",
   "execution_count": 2,
   "id": "7ce833b1",
   "metadata": {},
   "outputs": [],
   "source": [
    "def appendZero(n1,n2):\n",
    "    \n",
    "    if len(n1) == len(n2):\n",
    "        pass\n",
    "    elif len(n1) > len(n2):\n",
    "        dif = len(n1) - len(n2)\n",
    "        zero = '0'*dif\n",
    "        n2 = zero+n2    \n",
    "    else:\n",
    "        dif = len(n2) - len(n1)\n",
    "        zero = '0'*dif\n",
    "        n1 = zero+n1\n",
    "\n",
    "    return n1,n2   \n",
    "\n",
    "\n",
    "def meme_sum(n1,n2):   \n",
    "\n",
    "    n1,n2 = appendZero(str(n1),str(n2))\n",
    "\n",
    "    cnt = 0\n",
    "    i = 0\n",
    "    sum = 0\n",
    "    sumtotal = ''\n",
    "    while cnt < len(n1):\n",
    "        sum = int(n1[i]) + int(n2[i])\n",
    "        sumtotal = sumtotal + str(sum)\n",
    "        i += 1\n",
    "        sum = 0\n",
    "        cnt += 1\n",
    "    return int(sumtotal) "
   ]
  },
  {
   "cell_type": "code",
   "execution_count": 3,
   "id": "d1f40f17",
   "metadata": {},
   "outputs": [
    {
     "data": {
      "text/plain": [
       "515"
      ]
     },
     "execution_count": 3,
     "metadata": {},
     "output_type": "execute_result"
    }
   ],
   "source": [
    "meme_sum(26, 39)"
   ]
  },
  {
   "cell_type": "code",
   "execution_count": 4,
   "id": "2fe50429",
   "metadata": {},
   "outputs": [
    {
     "data": {
      "text/plain": [
       "1103"
      ]
     },
     "execution_count": 4,
     "metadata": {},
     "output_type": "execute_result"
    }
   ],
   "source": [
    "meme_sum(122, 81)"
   ]
  },
  {
   "cell_type": "code",
   "execution_count": 5,
   "id": "2c540b38",
   "metadata": {},
   "outputs": [
    {
     "data": {
      "text/plain": [
       "31499"
      ]
     },
     "execution_count": 5,
     "metadata": {},
     "output_type": "execute_result"
    }
   ],
   "source": [
    "meme_sum(1222, 30277)"
   ]
  },
  {
   "cell_type": "markdown",
   "id": "5b25ea80",
   "metadata": {},
   "source": [
    "### Question 2\n",
    "    2. Given an integer, create a function that returns the next prime. If the\n",
    "    number is prime, return the number itself.\n",
    "    Examples\n",
    "\n",
    "    next_prime(12) ➞ 13\n",
    "    next_prime(24) ➞ 29\n",
    "    next_prime(11) ➞ 11\n",
    "    # 11 is a prime, so we return the number itself.\n"
   ]
  },
  {
   "cell_type": "code",
   "execution_count": 6,
   "id": "768a69b9",
   "metadata": {},
   "outputs": [],
   "source": [
    "def isPrime(n):\n",
    "    if n==1:\n",
    "        return True\n",
    "    else:\n",
    "        for i in range(2,int(n/2)+1):\n",
    "            if n%i==0:\n",
    "                return False\n",
    "        return True\n",
    "\n",
    "def next_prime(x):\n",
    "    if isPrime(x):\n",
    "        return x\n",
    "    else:\n",
    "        while(isPrime(x)!=True):\n",
    "            x=x+1\n",
    "        return x\n"
   ]
  },
  {
   "cell_type": "code",
   "execution_count": 7,
   "id": "3c3915e4",
   "metadata": {},
   "outputs": [
    {
     "data": {
      "text/plain": [
       "13"
      ]
     },
     "execution_count": 7,
     "metadata": {},
     "output_type": "execute_result"
    }
   ],
   "source": [
    "next_prime(12)"
   ]
  },
  {
   "cell_type": "code",
   "execution_count": 8,
   "id": "783ebca3",
   "metadata": {},
   "outputs": [
    {
     "data": {
      "text/plain": [
       "29"
      ]
     },
     "execution_count": 8,
     "metadata": {},
     "output_type": "execute_result"
    }
   ],
   "source": [
    "next_prime(24)"
   ]
  },
  {
   "cell_type": "code",
   "execution_count": 9,
   "id": "09ec36a1",
   "metadata": {},
   "outputs": [
    {
     "data": {
      "text/plain": [
       "11"
      ]
     },
     "execution_count": 9,
     "metadata": {},
     "output_type": "execute_result"
    }
   ],
   "source": [
    "next_prime(11)"
   ]
  },
  {
   "cell_type": "markdown",
   "id": "539e7f5a",
   "metadata": {},
   "source": [
    "### Question3\n",
    "    3. If a person traveled up a hill for 18mins at 20mph and then traveled back\n",
    "    down the same path at 60mph then their average speed traveled was 30mph.\n",
    "    Write a function that returns the average speed traveled given an uphill time,\n",
    "    uphill rate and a downhill rate. Uphill time is given in minutes. Return the rate\n",
    "    as an integer (mph). No rounding is necessary.\n",
    "    Examples\n",
    "    ave_spd(18, 20, 60) ➞ 30\n",
    "    ave_spd(30, 10, 30) ➞ 15\n",
    "    ave_spd(30, 8, 24) ➞ 12\n"
   ]
  },
  {
   "cell_type": "code",
   "execution_count": 10,
   "id": "209c81dc",
   "metadata": {},
   "outputs": [],
   "source": [
    "def ave_spd(time1,speed1,speed2):\n",
    "\n",
    "    uptime = time1/60\n",
    "    #distance travelled uphill\n",
    "    distance = speed1 * uptime\n",
    "    #total distance\n",
    "    totaldistance = distance*2\n",
    "    #time taken to downhill\n",
    "    timedown = distance/speed2\n",
    "    totaltime = uptime + timedown\n",
    "    totalspeed = totaldistance/totaltime\n",
    "    return totalspeed"
   ]
  },
  {
   "cell_type": "code",
   "execution_count": 11,
   "id": "2f22f28f",
   "metadata": {},
   "outputs": [
    {
     "data": {
      "text/plain": [
       "30.0"
      ]
     },
     "execution_count": 11,
     "metadata": {},
     "output_type": "execute_result"
    }
   ],
   "source": [
    "ave_spd(18, 20, 60)"
   ]
  },
  {
   "cell_type": "code",
   "execution_count": 12,
   "id": "db1c2e70",
   "metadata": {},
   "outputs": [
    {
     "data": {
      "text/plain": [
       "15.0"
      ]
     },
     "execution_count": 12,
     "metadata": {},
     "output_type": "execute_result"
    }
   ],
   "source": [
    "ave_spd(30, 10, 30)"
   ]
  },
  {
   "cell_type": "code",
   "execution_count": 13,
   "id": "10477cd1",
   "metadata": {},
   "outputs": [
    {
     "data": {
      "text/plain": [
       "12.0"
      ]
     },
     "execution_count": 13,
     "metadata": {},
     "output_type": "execute_result"
    }
   ],
   "source": [
    "ave_spd(30, 8, 24)"
   ]
  },
  {
   "cell_type": "markdown",
   "id": "d193b413",
   "metadata": {},
   "source": [
    "### Question 4\n",
    "    4. The Kempner Function, applied to a composite number, permits to find the\n",
    "    smallest integer greater than zero whose factorial is exactly divided by the\n",
    "    number.\n",
    "    kempner(6) ➞ 3\n",
    "    1! = 1 % 6 > 0\n",
    "    2! = 2 % 6 > 0\n",
    "    3! = 6 % 6 === 0\n",
    "    kempner(10) ➞ 5\n",
    "    1! = 1 % 10 > 0\n",
    "    2! = 2 % 10 > 0\n",
    "    3! = 6 % 10 > 0\n",
    "    4! = 24 % 10 > 0\n",
    "    5! = 120 % 10 === 0\n",
    "    A Kempner Function applied to a prime will always return the prime itself.\n",
    "    kempner(2) ➞ 2\n",
    "    kempner(5) ➞ 5\n",
    "\n",
    "    Given an integer n, implement a Kempner Function.\n",
    "    Examples\n",
    "    kempner(6) ➞ 3\n",
    "    kempner(10) ➞ 5\n",
    "    kempner(2) ➞ 2\n"
   ]
  },
  {
   "cell_type": "code",
   "execution_count": 57,
   "id": "7b3df45c",
   "metadata": {},
   "outputs": [],
   "source": [
    "def isPrime(n):\n",
    "    if n==1:\n",
    "        return True\n",
    "    else:\n",
    "        for i in range(2,int(n/2)+1):\n",
    "            if n%i==0:\n",
    "                return False\n",
    "        return True\n",
    "def fact(num):\n",
    "    factorial=1\n",
    "    for i in range(1,num + 1):\n",
    "        factorial = factorial*i\n",
    "    #   print(factorial)\n",
    "    return factorial\n",
    "    \n",
    "def kempner(n):\n",
    "    if isPrime(n):\n",
    "        return n\n",
    "    else:\n",
    "        for i in range(1,n):\n",
    "            if fact(i)%n == 0:\n",
    "                return i\n"
   ]
  },
  {
   "cell_type": "code",
   "execution_count": 58,
   "id": "0d2a79bf",
   "metadata": {},
   "outputs": [
    {
     "data": {
      "text/plain": [
       "3"
      ]
     },
     "execution_count": 58,
     "metadata": {},
     "output_type": "execute_result"
    }
   ],
   "source": [
    "kempner(6)"
   ]
  },
  {
   "cell_type": "code",
   "execution_count": 59,
   "id": "d5cf5a28",
   "metadata": {},
   "outputs": [
    {
     "data": {
      "text/plain": [
       "5"
      ]
     },
     "execution_count": 59,
     "metadata": {},
     "output_type": "execute_result"
    }
   ],
   "source": [
    "kempner(10)"
   ]
  },
  {
   "cell_type": "code",
   "execution_count": 60,
   "id": "a0e2d994",
   "metadata": {},
   "outputs": [
    {
     "data": {
      "text/plain": [
       "2"
      ]
     },
     "execution_count": 60,
     "metadata": {},
     "output_type": "execute_result"
    }
   ],
   "source": [
    "kempner(2)"
   ]
  },
  {
   "cell_type": "markdown",
   "id": "8e0b00ff",
   "metadata": {},
   "source": [
    "### Question 5\n",
    "    5. You work in a factory, and your job is to take items from a conveyor belt\n",
    "    and pack them into boxes. Each box can hold a maximum of 10 kgs. Given a\n",
    "    list containing the weight (in kg) of each item, how many boxes would you\n",
    "    need to pack all of the items?\n",
    "    Example\n",
    "    boxes([2, 1, 2, 5, 4, 3, 6, 1, 1, 9, 3, 2]) ➞ 5\n",
    "    # Box 1 = [2, 1, 2, 5] (10kg)\n",
    "    # Box 2 = [4, 3] (7kg)\n",
    "    # Box 3 = [6, 1, 1] (8kg)\n",
    "    # Box 4 = [9] (9kg)\n",
    "    # Box 5 = [3, 2] (5kg)"
   ]
  },
  {
   "cell_type": "code",
   "execution_count": 70,
   "id": "7847a886",
   "metadata": {},
   "outputs": [],
   "source": [
    "def boxes(q):\n",
    "    l = len(q)\n",
    "    i = 0\n",
    "    a = []\n",
    "    box=[]\n",
    "    while l :\n",
    "        if sum(a)  <=  10 :\n",
    "            a.append(q[i])\n",
    "            i = i + 1\n",
    "            l = l - 1   \n",
    "        elif sum(a) > 10:\n",
    "            box.append(a[:-1:])\n",
    "            i = i - 1\n",
    "            l = l + 1\n",
    "            a.clear()\n",
    "    box.append(a)\n",
    "\n",
    "    print(\"We need {} boxes\".format(len(box)))\n",
    "    for i in range(len(box)):\n",
    "        print(\"Box{} has {}, and {}kgs\".format(i+1,box[i],sum(box[i])))\n"
   ]
  },
  {
   "cell_type": "code",
   "execution_count": 71,
   "id": "104f9797",
   "metadata": {},
   "outputs": [
    {
     "name": "stdout",
     "output_type": "stream",
     "text": [
      "We need 5 boxes\n",
      "Box1 has [2, 1, 2, 5], and 10kgs\n",
      "Box2 has [4, 3], and 7kgs\n",
      "Box3 has [6, 1, 1], and 8kgs\n",
      "Box4 has [9], and 9kgs\n",
      "Box5 has [3, 2], and 5kgs\n"
     ]
    }
   ],
   "source": [
    "boxes([2, 1, 2, 5, 4, 3, 6, 1, 1, 9, 3, 2])"
   ]
  },
  {
   "cell_type": "code",
   "execution_count": 72,
   "id": "868d629e",
   "metadata": {},
   "outputs": [
    {
     "name": "stdout",
     "output_type": "stream",
     "text": [
      "We need 5 boxes\n",
      "Box1 has [3, 4], and 7kgs\n",
      "Box2 has [5, 2], and 7kgs\n",
      "Box3 has [5, 4], and 9kgs\n",
      "Box4 has [8, 1], and 9kgs\n",
      "Box5 has [2, 3], and 5kgs\n"
     ]
    }
   ],
   "source": [
    "boxes([3,4,5,2,5,4,8,1,2,3])"
   ]
  }
 ],
 "metadata": {
  "kernelspec": {
   "display_name": "Python 3",
   "language": "python",
   "name": "python3"
  },
  "language_info": {
   "codemirror_mode": {
    "name": "ipython",
    "version": 3
   },
   "file_extension": ".py",
   "mimetype": "text/x-python",
   "name": "python",
   "nbconvert_exporter": "python",
   "pygments_lexer": "ipython3",
   "version": "3.8.8"
  }
 },
 "nbformat": 4,
 "nbformat_minor": 5
}
