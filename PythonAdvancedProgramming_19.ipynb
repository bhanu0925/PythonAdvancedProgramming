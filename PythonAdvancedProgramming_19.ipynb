{
 "cells": [
  {
   "cell_type": "markdown",
   "id": "947d398e",
   "metadata": {},
   "source": [
    "## PythonAdvancedProgramming_19"
   ]
  },
  {
   "cell_type": "markdown",
   "id": "989a792e",
   "metadata": {},
   "source": [
    "### Question 1  \n",
    "    1. Create a checker board generator, which takes as inputs n and 2 elements to generate an n x n checkerboard with those two elements as alternating squares.\n",
    "\n",
    "    Examples\n",
    "\n",
    "    checker_board(2, 7, 6) ➞ [\n",
    "      [7, 6],\n",
    "      [6, 7]\n",
    "    ]\n",
    "\n",
    "    checker_board(3, \"A\", \"B\") ➞ [\n",
    "      [\"A\", \"B\", \"A\"],\n",
    "      [\"B\", \"A\", \"B\"],\n",
    "      [\"A\", \"B\", \"A\"]\n",
    "    ]\n",
    "\n",
    "    checker_board(4, \"c\", \"d\") ➞ [\n",
    "      [\"c\", \"d\", \"c\", \"d\"],\n",
    "      [\"d\", \"c\", \"d\", \"c\"],\n",
    "      [\"c\", \"d\", \"c\", \"d\"],\n",
    "      [\"d\", \"c\", \"d\", \"c\"]\n",
    "    ]\n",
    "\n",
    "    checker_board(4, \"c\", \"c\") ➞ \"invalid\"\n"
   ]
  },
  {
   "cell_type": "code",
   "execution_count": 1,
   "id": "460155ba",
   "metadata": {},
   "outputs": [],
   "source": [
    "def checker_board(n,i1,i2):\n",
    "    if(i1==i2):\n",
    "        return \"invalid\"\n",
    "    else:\n",
    "        matrix=[]\n",
    "        for i in range(n):          \n",
    "            a =[] \n",
    "            for j in range(n):    \n",
    "                a.append(i1)\n",
    "#                 temp=i1\n",
    "#                 i1=i2\n",
    "#                 i2=temp   \n",
    "                i1, i2 = i2, i1\n",
    "            matrix.append(a)\n",
    "            if n%2==0:\n",
    "                i1, i2 = i2, i1\n",
    "        return matrix\n"
   ]
  },
  {
   "cell_type": "code",
   "execution_count": 2,
   "id": "452a8c4c",
   "metadata": {},
   "outputs": [
    {
     "data": {
      "text/plain": [
       "[[7, 6], [6, 7]]"
      ]
     },
     "execution_count": 2,
     "metadata": {},
     "output_type": "execute_result"
    }
   ],
   "source": [
    "checker_board(2, 7, 6)"
   ]
  },
  {
   "cell_type": "code",
   "execution_count": 3,
   "id": "b62de35d",
   "metadata": {},
   "outputs": [
    {
     "data": {
      "text/plain": [
       "[['A', 'B', 'A'], ['B', 'A', 'B'], ['A', 'B', 'A']]"
      ]
     },
     "execution_count": 3,
     "metadata": {},
     "output_type": "execute_result"
    }
   ],
   "source": [
    "checker_board(3, \"A\", \"B\")"
   ]
  },
  {
   "cell_type": "code",
   "execution_count": 4,
   "id": "2eb7aa9e",
   "metadata": {},
   "outputs": [
    {
     "data": {
      "text/plain": [
       "[['c', 'd', 'c', 'd'],\n",
       " ['d', 'c', 'd', 'c'],\n",
       " ['c', 'd', 'c', 'd'],\n",
       " ['d', 'c', 'd', 'c']]"
      ]
     },
     "execution_count": 4,
     "metadata": {},
     "output_type": "execute_result"
    }
   ],
   "source": [
    "checker_board(4, \"c\", \"d\")"
   ]
  },
  {
   "cell_type": "code",
   "execution_count": 11,
   "id": "895867d1",
   "metadata": {},
   "outputs": [
    {
     "data": {
      "text/plain": [
       "'invalid'"
      ]
     },
     "execution_count": 11,
     "metadata": {},
     "output_type": "execute_result"
    }
   ],
   "source": [
    "checker_board(4, \"c\", \"c\")"
   ]
  },
  {
   "cell_type": "markdown",
   "id": "19b70546",
   "metadata": {},
   "source": [
    "### Question 2\n",
    "\n",
    "    2. A string is an almost-palindrome if, by changing only one character, you can make it a palindrome. Create a function that returns True if a string is an almost-palindrome and False otherwise.\n",
    "\n",
    "    Examples\n",
    "\n",
    "    almost_palindrome(\"abcdcbg\") ➞ True\n",
    "\n",
    "     Transformed to \"abcdcba\" by changing \"g\" to \"a\".\n",
    "\n",
    "    almost_palindrome(\"abccia\") ➞ True\n",
    "\n",
    "     Transformed to \"abccba\" by changing \"i\" to \"b\".\n",
    "\n",
    "    almost_palindrome(\"abcdaaa\") ➞ False\n",
    "\n",
    "     Can't be transformed to a palindrome in exactly 1 turn.\n",
    "\n",
    "    almost_palindrome(\"1234312\") ➞ False\n"
   ]
  },
  {
   "cell_type": "code",
   "execution_count": 35,
   "id": "af1eefe7",
   "metadata": {},
   "outputs": [],
   "source": [
    "def almost_palindrome(s):\n",
    "    rs=s[::-1]\n",
    "    count=0\n",
    "    for i in range(len(s)):\n",
    "        if s[i]!=rs[i]:\n",
    "            count+=1\n",
    "    if count >2 :\n",
    "        return False\n",
    "    return True\n",
    "\n",
    "    \n"
   ]
  },
  {
   "cell_type": "code",
   "execution_count": 36,
   "id": "e9315481",
   "metadata": {},
   "outputs": [
    {
     "data": {
      "text/plain": [
       "True"
      ]
     },
     "execution_count": 36,
     "metadata": {},
     "output_type": "execute_result"
    }
   ],
   "source": [
    "almost_palindrome(\"abcdcbg\")"
   ]
  },
  {
   "cell_type": "code",
   "execution_count": 37,
   "id": "0dd0041f",
   "metadata": {},
   "outputs": [
    {
     "data": {
      "text/plain": [
       "True"
      ]
     },
     "execution_count": 37,
     "metadata": {},
     "output_type": "execute_result"
    }
   ],
   "source": [
    "almost_palindrome(\"abccia\") "
   ]
  },
  {
   "cell_type": "code",
   "execution_count": 38,
   "id": "bd0ee555",
   "metadata": {},
   "outputs": [
    {
     "data": {
      "text/plain": [
       "False"
      ]
     },
     "execution_count": 38,
     "metadata": {},
     "output_type": "execute_result"
    }
   ],
   "source": [
    "almost_palindrome(\"abcdaaa\")"
   ]
  },
  {
   "cell_type": "code",
   "execution_count": 39,
   "id": "2cdbe7c5",
   "metadata": {},
   "outputs": [
    {
     "data": {
      "text/plain": [
       "False"
      ]
     },
     "execution_count": 39,
     "metadata": {},
     "output_type": "execute_result"
    }
   ],
   "source": [
    "almost_palindrome(\"1234312\")"
   ]
  },
  {
   "cell_type": "markdown",
   "id": "1668f275",
   "metadata": {},
   "source": [
    "### Question 3    \n",
    "    \n",
    "    3. Create a function that finds how many prime numbers there are, up to the given integer.\n",
    "\n",
    "    Examples\n",
    "\n",
    "    prime_numbers(10) ➞ 4\n",
    "\n",
    "    # 2, 3, 5 and 7\n",
    "\n",
    "    prime_numbers(20) ➞ 8\n",
    "\n",
    "    # 2, 3, 5, 7, 11, 13, 17 and 19\n",
    "\n",
    "    prime_numbers(30) ➞ 10\n",
    "\n",
    "    # 2, 3, 5, 7, 11, 13, 17, 19, 23 and 29\n"
   ]
  },
  {
   "cell_type": "code",
   "execution_count": 69,
   "id": "65ab3958",
   "metadata": {},
   "outputs": [],
   "source": [
    "def prime_numbers(n):\n",
    "    count=0\n",
    "    for i in range(n+1):\n",
    "        if i>1:\n",
    "            for j in range(2,i):\n",
    "                if(i % j==0):\n",
    "                    break\n",
    "            else:\n",
    "    #             print(i)\n",
    "                count+=1\n",
    "    return count\n",
    "                       "
   ]
  },
  {
   "cell_type": "code",
   "execution_count": 70,
   "id": "7e541d28",
   "metadata": {},
   "outputs": [
    {
     "data": {
      "text/plain": [
       "4"
      ]
     },
     "execution_count": 70,
     "metadata": {},
     "output_type": "execute_result"
    }
   ],
   "source": [
    "prime_numbers(10)"
   ]
  },
  {
   "cell_type": "code",
   "execution_count": 71,
   "id": "6fd88d84",
   "metadata": {},
   "outputs": [
    {
     "data": {
      "text/plain": [
       "8"
      ]
     },
     "execution_count": 71,
     "metadata": {},
     "output_type": "execute_result"
    }
   ],
   "source": [
    "prime_numbers(20)"
   ]
  },
  {
   "cell_type": "code",
   "execution_count": 72,
   "id": "d517833a",
   "metadata": {},
   "outputs": [
    {
     "data": {
      "text/plain": [
       "10"
      ]
     },
     "execution_count": 72,
     "metadata": {},
     "output_type": "execute_result"
    }
   ],
   "source": [
    "prime_numbers(30)\n"
   ]
  },
  {
   "cell_type": "markdown",
   "id": "fdea8e1b",
   "metadata": {},
   "source": [
    "### Question 4\n",
    "    4. If today was Monday, in two days, it would be Wednesday.\n",
    "\n",
    "    Create a function that takes in a list of days as input and the number of days to increment by. Return a list of days after n number of days has passed.\n",
    "\n",
    "    Examples\n",
    "\n",
    "    after_n_days([\"Thursday\", \"Monday\"], 4) ➞ [\"Monday\", \"Friday\"]\n",
    "\n",
    "    after_n_days([\"Sunday\", \"Sunday\", \"Sunday\"], 1) ➞ [\"Monday\", \"Monday\", \"Monday\"]\n",
    "\n",
    "    after_n_days([\"Monday\", \"Tuesday\", \"Friday\"], 1) ➞ [\"Tuesday\", \"Wednesday\", \"Saturday\"]\n"
   ]
  },
  {
   "cell_type": "code",
   "execution_count": 82,
   "id": "db1d0981",
   "metadata": {},
   "outputs": [],
   "source": [
    "def after_n_days(lst,n):\n",
    "    index=[]\n",
    "    new=[]\n",
    "    days=[\"Monday\",\"Tuesday\",\"Wednesday\",\"Thursday\",\"Friday\",\"Saturday\",\"Sunday\"]\n",
    "    index=[days.index(i) for i in lst]\n",
    "    index=[(i+n)%7 for i in index]\n",
    "    for i in index:\n",
    "        new.append(days[i])\n",
    "    return new\n"
   ]
  },
  {
   "cell_type": "code",
   "execution_count": 83,
   "id": "46b1aa33",
   "metadata": {},
   "outputs": [
    {
     "data": {
      "text/plain": [
       "['Monday', 'Friday']"
      ]
     },
     "execution_count": 83,
     "metadata": {},
     "output_type": "execute_result"
    }
   ],
   "source": [
    "after_n_days([\"Thursday\", \"Monday\"],4)"
   ]
  },
  {
   "cell_type": "code",
   "execution_count": 84,
   "id": "b6cbaeaf",
   "metadata": {},
   "outputs": [
    {
     "data": {
      "text/plain": [
       "['Monday', 'Monday', 'Monday']"
      ]
     },
     "execution_count": 84,
     "metadata": {},
     "output_type": "execute_result"
    }
   ],
   "source": [
    "after_n_days([\"Sunday\", \"Sunday\", \"Sunday\"], 1)"
   ]
  },
  {
   "cell_type": "code",
   "execution_count": 85,
   "id": "56382ecc",
   "metadata": {},
   "outputs": [
    {
     "data": {
      "text/plain": [
       "['Tuesday', 'Wednesday', 'Saturday']"
      ]
     },
     "execution_count": 85,
     "metadata": {},
     "output_type": "execute_result"
    }
   ],
   "source": [
    "after_n_days([\"Monday\", \"Tuesday\", \"Friday\"], 1)"
   ]
  },
  {
   "cell_type": "markdown",
   "id": "bb09b6cf",
   "metadata": {},
   "source": [
    "### Question 5\n",
    "    5. You are in the process of creating a chat application and want to add an anonymous name feature. This anonymous name feature will create an alias that consists of two capitalized words beginning with the same letter as the users first name.\n",
    "\n",
    "    Create a function that determines if the list of users is mapped to a list of anonymous names correctly.\n",
    "\n",
    "    Examples\n",
    "\n",
    "    is_correct_aliases([\"Adrian M.\", \"Harriet S.\", \"Mandy T.\"], [\"Amazing Artichoke\", \"Hopeful Hedgehog\", \"Marvelous Mouse\"]) ➞ True\n",
    "\n",
    "    is_correct_aliases([\"Rachel F.\", \"Pam G.\", \"Fred Z.\", \"Nancy K.\"], [\"Reassuring Rat\", \"Peaceful Panda\", \"Fantastic Frog\", \"Notable Nickel\"]) ➞ True\n",
    "\n",
    "    is_correct_aliases([\"Beth T.\"], [\"Brandishing Mimosa\"]) ➞ False\n",
    "\n",
    "\n",
    "     Both words in \"Brandishing Mimosa\" should begin with a \"B\" - \"Brandishing Beaver\" would do the trick.\n"
   ]
  },
  {
   "cell_type": "code",
   "execution_count": 114,
   "id": "6db5ad40",
   "metadata": {},
   "outputs": [],
   "source": [
    "def is_correct_aliases(lst1,lst2):\n",
    "    new=[]\n",
    "    for i in lst2:\n",
    "        x=i.split()\n",
    "        new.append(x)\n",
    "    for i in range(len(lst1)):\n",
    "#         print(lst1[i][0],new[i][0][0],new[i][1][0])\n",
    "        if lst1[i][0]!=new[i][0][0] or lst1[i][0] !=new[i][1][0]:\n",
    "            return False\n",
    "    return True\n",
    "\n",
    "        \n",
    "        \n",
    "\n",
    "    "
   ]
  },
  {
   "cell_type": "code",
   "execution_count": 115,
   "id": "4e99ee39",
   "metadata": {},
   "outputs": [
    {
     "data": {
      "text/plain": [
       "True"
      ]
     },
     "execution_count": 115,
     "metadata": {},
     "output_type": "execute_result"
    }
   ],
   "source": [
    "is_correct_aliases([\"Adrian M.\", \"Harriet S.\", \"Mandy T.\"], [\"Amazing Artichoke\", \"Hopeful Hedgehog\", \"Marvelous Mouse\"])"
   ]
  },
  {
   "cell_type": "code",
   "execution_count": 116,
   "id": "0491d4da",
   "metadata": {},
   "outputs": [
    {
     "data": {
      "text/plain": [
       "True"
      ]
     },
     "execution_count": 116,
     "metadata": {},
     "output_type": "execute_result"
    }
   ],
   "source": [
    "is_correct_aliases([\"Rachel F.\", \"Pam G.\", \"Fred Z.\", \"Nancy K.\"], [\"Reassuring Rat\", \"Peaceful Panda\", \"Fantastic Frog\", \"Notable Nickel\"])"
   ]
  },
  {
   "cell_type": "code",
   "execution_count": 118,
   "id": "4ebe9404",
   "metadata": {},
   "outputs": [
    {
     "data": {
      "text/plain": [
       "False"
      ]
     },
     "execution_count": 118,
     "metadata": {},
     "output_type": "execute_result"
    }
   ],
   "source": [
    "is_correct_aliases([\"Beth T.\"], [\"Brandishing Mimosa\"]) "
   ]
  },
  {
   "cell_type": "code",
   "execution_count": null,
   "id": "86712c59",
   "metadata": {},
   "outputs": [],
   "source": []
  }
 ],
 "metadata": {
  "kernelspec": {
   "display_name": "Python 3",
   "language": "python",
   "name": "python3"
  },
  "language_info": {
   "codemirror_mode": {
    "name": "ipython",
    "version": 3
   },
   "file_extension": ".py",
   "mimetype": "text/x-python",
   "name": "python",
   "nbconvert_exporter": "python",
   "pygments_lexer": "ipython3",
   "version": "3.8.8"
  }
 },
 "nbformat": 4,
 "nbformat_minor": 5
}
