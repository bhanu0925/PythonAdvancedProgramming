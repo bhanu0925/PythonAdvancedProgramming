{
 "cells": [
  {
   "cell_type": "markdown",
   "metadata": {},
   "source": [
    "## PythonAdvancedProgramming_2"
   ]
  },
  {
   "cell_type": "markdown",
   "metadata": {},
   "source": [
    "### Q1\n",
    "    1. Write a function that takes a positive integer num and calculates how many\n",
    "    dots exist in a pentagonal shape around the center dot on the Nth iteration.\n",
    "    In the image below you can see the first iteration is only a single dot. On the\n",
    "    second, there are 6 dots. On the third, there are 16 dots, and on the fourth\n",
    "    there are 31 dots.\n",
    "\n",
    "    Return the number of dots that exist in the whole pentagon on the Nth\n",
    "    iteration.\n",
    "    Examples\n",
    "    pentagonal(1) ➞ 1\n",
    "    pentagonal(2) ➞ 6\n",
    "    pentagonal(3) ➞ 16\n",
    "    pentagonal(8) ➞ 141\n",
    "\n"
   ]
  },
  {
   "cell_type": "code",
   "execution_count": 4,
   "metadata": {},
   "outputs": [],
   "source": [
    "def pentagonal(n): \n",
    "    # Formula to calculate nth Centered pentagonal number.     \n",
    "    return (5 * n * n - 5 * n + 2) // 2\n"
   ]
  },
  {
   "cell_type": "code",
   "execution_count": 5,
   "metadata": {},
   "outputs": [
    {
     "data": {
      "text/plain": [
       "1"
      ]
     },
     "execution_count": 5,
     "metadata": {},
     "output_type": "execute_result"
    }
   ],
   "source": [
    "pentagonal(1)"
   ]
  },
  {
   "cell_type": "code",
   "execution_count": 6,
   "metadata": {},
   "outputs": [
    {
     "data": {
      "text/plain": [
       "6"
      ]
     },
     "execution_count": 6,
     "metadata": {},
     "output_type": "execute_result"
    }
   ],
   "source": [
    "pentagonal(2)"
   ]
  },
  {
   "cell_type": "code",
   "execution_count": 7,
   "metadata": {},
   "outputs": [
    {
     "data": {
      "text/plain": [
       "16"
      ]
     },
     "execution_count": 7,
     "metadata": {},
     "output_type": "execute_result"
    }
   ],
   "source": [
    "pentagonal(3)"
   ]
  },
  {
   "cell_type": "code",
   "execution_count": 8,
   "metadata": {},
   "outputs": [
    {
     "data": {
      "text/plain": [
       "141"
      ]
     },
     "execution_count": 8,
     "metadata": {},
     "output_type": "execute_result"
    }
   ],
   "source": [
    "pentagonal(8)"
   ]
  },
  {
   "cell_type": "markdown",
   "metadata": {},
   "source": [
    "### 2. Make a function that encrypts a given input with these steps:\n",
    "    Input: 'apple'\n",
    "    Step 1: Reverse the input: 'elppa'\n",
    "    Step 2: Replace all vowels using the following chart:\n",
    "    a => 0\n",
    "    e => 1\n",
    "    i => 2\n",
    "    o => 2\n",
    "    u => 3\n",
    "    # '1lpp0'\n",
    "    Step 3: Add 'aca' to the end of the word: '1lpp0aca'\n",
    "    Output: '1lpp0aca'\n",
    "    Examples\n",
    "    encrypt('banana') ➞ '0n0n0baca'\n",
    "    encrypt('karaca') ➞ '0c0r0kaca'\n",
    "    encrypt('burak') ➞ 'k0r3baca'\n",
    "    encrypt('alpaca') ➞ '0c0pl0aca'\n"
   ]
  },
  {
   "cell_type": "code",
   "execution_count": 47,
   "metadata": {},
   "outputs": [],
   "source": [
    "def encrypts(s):\n",
    "    vowel = 'aeiou'\n",
    "    codes = {'a':0,'e':1,'i':2,'o':2,'u':3}\n",
    "    s = s.lower()\n",
    "    s = s[::-1]\n",
    "    encoded =[]\n",
    "    for i in range(len(s)):\n",
    "        if s[i] in vowel:\n",
    "            encoded.append(str(codes[s[i]]))\n",
    "        else:\n",
    "            encoded.append(s[i])\n",
    "    return(''.join(encoded) + 'aca')"
   ]
  },
  {
   "cell_type": "code",
   "execution_count": 48,
   "metadata": {},
   "outputs": [
    {
     "data": {
      "text/plain": [
       "'1lpp0aca'"
      ]
     },
     "execution_count": 48,
     "metadata": {},
     "output_type": "execute_result"
    }
   ],
   "source": [
    "encrypts('apple')"
   ]
  },
  {
   "cell_type": "code",
   "execution_count": 49,
   "metadata": {},
   "outputs": [
    {
     "data": {
      "text/plain": [
       "'p11daca'"
      ]
     },
     "execution_count": 49,
     "metadata": {},
     "output_type": "execute_result"
    }
   ],
   "source": [
    "encrypts('Deep')"
   ]
  },
  {
   "cell_type": "code",
   "execution_count": 50,
   "metadata": {},
   "outputs": [
    {
     "data": {
      "text/plain": [
       "'2ll1haca'"
      ]
     },
     "execution_count": 50,
     "metadata": {},
     "output_type": "execute_result"
    }
   ],
   "source": [
    "encrypts('HELLO')"
   ]
  },
  {
   "cell_type": "markdown",
   "metadata": {},
   "source": [
    "### 3. Given the month and year as numbers, return whether that month contains a Friday 13th.(i.e You can check Python's datetime module)\n",
    "    Examples\n",
    "    has_friday_13(3, 2020) ➞ True\n",
    "    has_friday_13(10, 2017) ➞ True\n",
    "    has_friday_13(1, 1985) ➞ False"
   ]
  },
  {
   "cell_type": "code",
   "execution_count": 71,
   "metadata": {},
   "outputs": [],
   "source": [
    "import datetime \n",
    "def has_friday_13(month,year):\n",
    "    return(True if datetime.datetime.strptime('13 '+' '+str(month)+' '+str(year), '%d %m %Y').weekday()==4 else False) "
   ]
  },
  {
   "cell_type": "code",
   "execution_count": 72,
   "metadata": {},
   "outputs": [
    {
     "data": {
      "text/plain": [
       "True"
      ]
     },
     "execution_count": 72,
     "metadata": {},
     "output_type": "execute_result"
    }
   ],
   "source": [
    "has_friday_13(3, 2020)"
   ]
  },
  {
   "cell_type": "code",
   "execution_count": 73,
   "metadata": {},
   "outputs": [
    {
     "data": {
      "text/plain": [
       "True"
      ]
     },
     "execution_count": 73,
     "metadata": {},
     "output_type": "execute_result"
    }
   ],
   "source": [
    "has_friday_13(10, 2017)"
   ]
  },
  {
   "cell_type": "code",
   "execution_count": 74,
   "metadata": {},
   "outputs": [
    {
     "data": {
      "text/plain": [
       "False"
      ]
     },
     "execution_count": 74,
     "metadata": {},
     "output_type": "execute_result"
    }
   ],
   "source": [
    "has_friday_13(1, 1985)"
   ]
  },
  {
   "cell_type": "markdown",
   "metadata": {},
   "source": [
    "### 4. Write a regular expression that will help us count how many bad cookies are produced every day. You must use RegEx negative lookbehind.\n",
    "    Example\n",
    "    lst = ['bad cookie', 'good cookie', 'bad cookie', 'good cookie', 'good cookie']\n",
    "    pattern = '^bad\\s\\w'\n",
    "    len(re.findall(pattern, ', '.join(lst))) ➞ 2\n"
   ]
  },
  {
   "cell_type": "code",
   "execution_count": 81,
   "metadata": {},
   "outputs": [
    {
     "data": {
      "text/plain": [
       "2"
      ]
     },
     "execution_count": 81,
     "metadata": {},
     "output_type": "execute_result"
    }
   ],
   "source": [
    "import re\n",
    "lst = ['bad cookie', 'good cookie', 'bad cookie', 'good cookie', 'good cookie']\n",
    "pattern = 'bad\\s\\w'\n",
    "len(re.findall(pattern, ', '.join(lst)))"
   ]
  },
  {
   "cell_type": "markdown",
   "metadata": {},
   "source": [
    "### 5. Given a list of words in the singular form, return a set of those words in the plural form if they appear more than once in the list.\n",
    "    Examples\n",
    "    pluralize(['cow', 'pig', 'cow', 'cow']) ➞ { 'cows', 'pig' }\n",
    "    pluralize(['table', 'table', 'table']) ➞ { 'tables' }\n",
    "\n",
    "    pluralize(['chair', 'pencil', 'arm']) ➞ { 'chair', 'pencil', 'arm' }"
   ]
  },
  {
   "cell_type": "code",
   "execution_count": 98,
   "metadata": {},
   "outputs": [],
   "source": [
    "def pluralize(lst):\n",
    "    ls = []\n",
    "    print(\"The List :\",lst)\n",
    "    for i in lst:\n",
    "        if lst.count(i) > 1:\n",
    "            ls.append(i + 's')\n",
    "        else:\n",
    "            ls.append(i)\n",
    "    return set(ls)"
   ]
  },
  {
   "cell_type": "code",
   "execution_count": 99,
   "metadata": {},
   "outputs": [
    {
     "name": "stdout",
     "output_type": "stream",
     "text": [
      "The List : ['cow', 'pig', 'cow', 'cow']\n"
     ]
    },
    {
     "data": {
      "text/plain": [
       "{'cows', 'pig'}"
      ]
     },
     "execution_count": 99,
     "metadata": {},
     "output_type": "execute_result"
    }
   ],
   "source": [
    "pluralize(['cow', 'pig', 'cow', 'cow'])"
   ]
  },
  {
   "cell_type": "code",
   "execution_count": 100,
   "metadata": {},
   "outputs": [
    {
     "name": "stdout",
     "output_type": "stream",
     "text": [
      "The List : ['table', 'table', 'table']\n"
     ]
    },
    {
     "data": {
      "text/plain": [
       "{'tables'}"
      ]
     },
     "execution_count": 100,
     "metadata": {},
     "output_type": "execute_result"
    }
   ],
   "source": [
    "pluralize(['table', 'table', 'table'])"
   ]
  },
  {
   "cell_type": "code",
   "execution_count": 101,
   "metadata": {},
   "outputs": [
    {
     "name": "stdout",
     "output_type": "stream",
     "text": [
      "The List : ['chair', 'pencil', 'arm']\n"
     ]
    },
    {
     "data": {
      "text/plain": [
       "{'arm', 'chair', 'pencil'}"
      ]
     },
     "execution_count": 101,
     "metadata": {},
     "output_type": "execute_result"
    }
   ],
   "source": [
    "pluralize(['chair', 'pencil', 'arm'])"
   ]
  }
 ],
 "metadata": {
  "kernelspec": {
   "display_name": "Python 3",
   "language": "python",
   "name": "python3"
  },
  "language_info": {
   "codemirror_mode": {
    "name": "ipython",
    "version": 3
   },
   "file_extension": ".py",
   "mimetype": "text/x-python",
   "name": "python",
   "nbconvert_exporter": "python",
   "pygments_lexer": "ipython3",
   "version": "3.8.3"
  }
 },
 "nbformat": 4,
 "nbformat_minor": 4
}
