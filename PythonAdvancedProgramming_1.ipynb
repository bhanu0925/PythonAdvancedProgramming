{
 "cells": [
  {
   "cell_type": "markdown",
   "metadata": {},
   "source": [
    "## PythonAdvancedProgramming_1"
   ]
  },
  {
   "cell_type": "markdown",
   "metadata": {},
   "source": [
    "### 1. Write a function that takes a list of lists and returns the value of all of the\n",
    "    symbols in it, where each symbol adds or takes something from the total\n",
    "    score. Symbol values:\n",
    "    # = 5\n",
    "    O = 3\n",
    "    X = 1\n",
    "    ! = -1\n",
    "    !! = -3\n",
    "    !!! = -5\n",
    "    A list of lists containing 2 #s, a O, and a !!! would equal (0 + 5 + 5 + 3 - 5) 8.\n",
    "    If the final score is negative, return 0 (e.g. 3 #s, 3 !!s, 2 !!!s and a X would be\n",
    "    (0 + 5 + 5 + 5 - 3 - 3 - 3 - 5 - 5 + 1) -3, so return 0.\n",
    "    Examples\n",
    "    check_score([\n",
    "    ['#', '!'],\n",
    "    ['!!', 'X']\n",
    "    ]) ➞ 2\n",
    "    check_score([\n",
    "    ['!!!', 'O', '!'],\n",
    "    ['X', '#', '!!!'],\n",
    "    ['!!', 'X', 'O']\n",
    "    ]) ➞ 0\n"
   ]
  },
  {
   "cell_type": "code",
   "execution_count": 37,
   "metadata": {},
   "outputs": [],
   "source": [
    "def check_score(lst):\n",
    "    symbol = {'#' : 5, 'O' : 3, 'X' : 1, '!' : -1, '!!' : -3, '!!!' : -5}\n",
    "    expression = ''\n",
    "    for i in lst:\n",
    "        for j in i:\n",
    "            expression = expression + '+' + '(' + str(symbol[j]) + ')'\n",
    "    print('The Expression : ',expression )\n",
    "    if eval(expression) < 0 :\n",
    "        return 0\n",
    "    else:\n",
    "        return eval(expression)\n",
    "            "
   ]
  },
  {
   "cell_type": "code",
   "execution_count": 38,
   "metadata": {},
   "outputs": [
    {
     "name": "stdout",
     "output_type": "stream",
     "text": [
      "The Expression :  +(5)+(-1)+(-3)+(1)\n"
     ]
    },
    {
     "data": {
      "text/plain": [
       "2"
      ]
     },
     "execution_count": 38,
     "metadata": {},
     "output_type": "execute_result"
    }
   ],
   "source": [
    "check_score([\n",
    "['#', '!'],\n",
    "['!!', 'X']\n",
    "])"
   ]
  },
  {
   "cell_type": "code",
   "execution_count": 39,
   "metadata": {},
   "outputs": [
    {
     "name": "stdout",
     "output_type": "stream",
     "text": [
      "The Expression :  +(-5)+(3)+(-1)+(1)+(5)+(-5)+(-3)+(1)+(3)\n"
     ]
    },
    {
     "data": {
      "text/plain": [
       "0"
      ]
     },
     "execution_count": 39,
     "metadata": {},
     "output_type": "execute_result"
    }
   ],
   "source": [
    "check_score([\n",
    "['!!!', 'O', '!'],\n",
    "['X', '#', '!!!'],\n",
    "['!!', 'X', 'O']\n",
    "])"
   ]
  },
  {
   "cell_type": "markdown",
   "metadata": {},
   "source": [
    "### 2. Create a function that takes a variable number of arguments, each\n",
    "    argument representing the number of items in a group, and returns the\n",
    "    number of permutations (combinations) of items that you could get by taking\n",
    "    one item from each group.\n",
    "    Examples\n",
    "    combinations(2, 3) ➞ 6\n",
    "    combinations(3, 7, 4) ➞ 84\n",
    "    combinations(2, 3, 4, 5) ➞ 120\n",
    "\n"
   ]
  },
  {
   "cell_type": "code",
   "execution_count": 45,
   "metadata": {},
   "outputs": [],
   "source": [
    "def combinations(*args):\n",
    "    comb = 1\n",
    "    for i in args:\n",
    "        comb = comb*i\n",
    "    return comb"
   ]
  },
  {
   "cell_type": "code",
   "execution_count": 46,
   "metadata": {},
   "outputs": [
    {
     "data": {
      "text/plain": [
       "6"
      ]
     },
     "execution_count": 46,
     "metadata": {},
     "output_type": "execute_result"
    }
   ],
   "source": [
    "combinations(2, 3)"
   ]
  },
  {
   "cell_type": "code",
   "execution_count": 47,
   "metadata": {},
   "outputs": [
    {
     "data": {
      "text/plain": [
       "84"
      ]
     },
     "execution_count": 47,
     "metadata": {},
     "output_type": "execute_result"
    }
   ],
   "source": [
    "combinations(3, 7, 4)"
   ]
  },
  {
   "cell_type": "code",
   "execution_count": 48,
   "metadata": {},
   "outputs": [
    {
     "data": {
      "text/plain": [
       "120"
      ]
     },
     "execution_count": 48,
     "metadata": {},
     "output_type": "execute_result"
    }
   ],
   "source": [
    "combinations(2, 3, 4, 5)"
   ]
  },
  {
   "cell_type": "markdown",
   "metadata": {},
   "source": [
    "### 3. Create a function that takes a string as an argument and returns the Morse\n",
    "    code equivalent.\n",
    "    Examples\n",
    "    encode_morse('EDABBIT CHALLENGE') ➞ '. -.. .- -... -... .. - -.-. .... .- .-.. .-..\n",
    "    . -. --. .'\n",
    "    encode_morse('HELP ME !') ➞ '.... . .-.. .--. -- . -.-.--'\n",
    "    This dictionary can be used for coding:\n",
    "    char_to_dots = {\n",
    "    'A': '.-', 'B': '-...', 'C': '-.-.', 'D': '-..', 'E': '.', 'F': '..-.',\n",
    "    'G': '--.', 'H': '....', 'I': '..', 'J': '.---', 'K': '-.-', 'L': '.-..',\n",
    "    'M': '--', 'N': '-.', 'O': '---', 'P': '.--.', 'Q': '--.-', 'R': '.-.',\n",
    "    'S': '...', 'T': '-', 'U': '..-', 'V': '...-', 'W': '.--', 'X': '-..-',\n",
    "    'Y': '-.--', 'Z': '--..', ' ': ' ', '0': '-----',\n",
    "    '1': '.----', '2': '..---', '3': '...--', '4': '....-', '5': '.....',\n",
    "    '6': '-....', '7': '--...', '8': '---..', '9': '----.',\n",
    "    '&': '.-...', \"'\": '.----.', '@': '.--.-.', ')': '-.--.-', '(': '-.--.',\n",
    "    ':': '---...', ',': '--..--', '=': '-...-', '!': '-.-.--', '.': '.-.-.-',\n",
    "    '-': '-....-', '+': '.-.-.', \"\": '.-..-.', '?': '..--..', '/': '-..-.'\n",
    "    }\n"
   ]
  },
  {
   "cell_type": "code",
   "execution_count": 101,
   "metadata": {},
   "outputs": [],
   "source": [
    "char_to_dots = {\n",
    "'A': '.-', 'B': '-...', 'C': '-.-.', 'D': '-..', 'E': '.', 'F': '..-.',\n",
    "'G': '--.', 'H': '....', 'I': '..', 'J': '.---', 'K': '-.-', 'L': '.-..',\n",
    "'M': '--', 'N': '-.', 'O': '---', 'P': '.--.', 'Q': '--.-', 'R': '.-.',\n",
    "'S': '...', 'T': '-', 'U': '..-', 'V': '...-', 'W': '.--', 'X': '-..-',\n",
    "'Y': '-.--', 'Z': '--..', ' ': ' ', '0': '-----',\n",
    "'1': '.----', '2': '..---', '3': '...--', '4': '....-', '5': '.....',\n",
    "'6': '-....', '7': '--...', '8': '---..', '9': '----.',\n",
    "'&': '.-...', \"'\": '.----.', '@': '.--.-.', ')': '-.--.-', '(': '-.--.',\n",
    "':': '---...', ',': '--..--', '=': '-...-', '!': '-.-.--', '.': '.-.-.-',\n",
    "'-': '-....-', '+': '.-.-.', \"\": '.-..-.', '?': '..--..', '/': '-..-.'\n",
    "}\n",
    "\n",
    "def encode_morse(str):\n",
    "    morse = []\n",
    "    for c in str:\n",
    "        print(morse)\n",
    "        morse.append(char_to_dots[c])\n",
    "    print(morse)\n",
    "        \n",
    "    return ''.join(morse)"
   ]
  },
  {
   "cell_type": "code",
   "execution_count": 102,
   "metadata": {},
   "outputs": [
    {
     "name": "stdout",
     "output_type": "stream",
     "text": [
      "[]\n",
      "['.']\n",
      "['.', '-..']\n",
      "['.', '-..', '.-']\n",
      "['.', '-..', '.-', '-...']\n",
      "['.', '-..', '.-', '-...', '-...']\n",
      "['.', '-..', '.-', '-...', '-...', '..']\n",
      "['.', '-..', '.-', '-...', '-...', '..', '-']\n",
      "['.', '-..', '.-', '-...', '-...', '..', '-', ' ']\n",
      "['.', '-..', '.-', '-...', '-...', '..', '-', ' ', '-.-.']\n",
      "['.', '-..', '.-', '-...', '-...', '..', '-', ' ', '-.-.', '....']\n",
      "['.', '-..', '.-', '-...', '-...', '..', '-', ' ', '-.-.', '....', '.-']\n",
      "['.', '-..', '.-', '-...', '-...', '..', '-', ' ', '-.-.', '....', '.-', '.-..']\n",
      "['.', '-..', '.-', '-...', '-...', '..', '-', ' ', '-.-.', '....', '.-', '.-..', '.-..']\n",
      "['.', '-..', '.-', '-...', '-...', '..', '-', ' ', '-.-.', '....', '.-', '.-..', '.-..', '.']\n",
      "['.', '-..', '.-', '-...', '-...', '..', '-', ' ', '-.-.', '....', '.-', '.-..', '.-..', '.', '-.']\n",
      "['.', '-..', '.-', '-...', '-...', '..', '-', ' ', '-.-.', '....', '.-', '.-..', '.-..', '.', '-.', '--.']\n",
      "['.', '-..', '.-', '-...', '-...', '..', '-', ' ', '-.-.', '....', '.-', '.-..', '.-..', '.', '-.', '--.', '.']\n"
     ]
    },
    {
     "data": {
      "text/plain": [
       "'.-...--...-.....- -.-......-.-...-...-.--..'"
      ]
     },
     "execution_count": 102,
     "metadata": {},
     "output_type": "execute_result"
    }
   ],
   "source": [
    "encode_morse('EDABBIT CHALLENGE')"
   ]
  },
  {
   "cell_type": "code",
   "execution_count": 103,
   "metadata": {},
   "outputs": [
    {
     "name": "stdout",
     "output_type": "stream",
     "text": [
      "[]\n",
      "['....']\n",
      "['....', '.']\n",
      "['....', '.', '.-..']\n",
      "['....', '.', '.-..', '.--.']\n",
      "['....', '.', '.-..', '.--.', ' ']\n",
      "['....', '.', '.-..', '.--.', ' ', '--']\n",
      "['....', '.', '.-..', '.--.', ' ', '--', '.']\n",
      "['....', '.', '.-..', '.--.', ' ', '--', '.', ' ']\n",
      "['....', '.', '.-..', '.--.', ' ', '--', '.', ' ', '.--.-.']\n"
     ]
    },
    {
     "data": {
      "text/plain": [
       "'......-...--. --. .--.-.'"
      ]
     },
     "execution_count": 103,
     "metadata": {},
     "output_type": "execute_result"
    }
   ],
   "source": [
    "encode_morse('HELP ME @')"
   ]
  },
  {
   "cell_type": "markdown",
   "metadata": {},
   "source": [
    "### 4. Write a function that takes a number and returns True if it's a prime; False  otherwise. \n",
    "    The number can be 2^64-1 (2 to the power of 63, not XOR). With\n",
    "    the standard technique it would be O(2^64-1), which is much too large for the\n",
    "    10 second time limit.\n",
    "    Examples\n",
    "    prime(7) ➞ True\n",
    "    prime(56963) ➞ True\n",
    "    prime(5151512515524) ➞ False"
   ]
  },
  {
   "cell_type": "code",
   "execution_count": 107,
   "metadata": {},
   "outputs": [],
   "source": [
    "def prime(n):\n",
    "    if (n==1):\n",
    "        return False\n",
    "    elif (n==2):\n",
    "        return True;\n",
    "    else:\n",
    "        for x in range(2,n):\n",
    "            if(n % x==0):\n",
    "                return False\n",
    "        return True             \n"
   ]
  },
  {
   "cell_type": "code",
   "execution_count": 108,
   "metadata": {},
   "outputs": [
    {
     "data": {
      "text/plain": [
       "True"
      ]
     },
     "execution_count": 108,
     "metadata": {},
     "output_type": "execute_result"
    }
   ],
   "source": [
    "prime(7)"
   ]
  },
  {
   "cell_type": "code",
   "execution_count": 109,
   "metadata": {},
   "outputs": [
    {
     "data": {
      "text/plain": [
       "True"
      ]
     },
     "execution_count": 109,
     "metadata": {},
     "output_type": "execute_result"
    }
   ],
   "source": [
    "prime(56963)"
   ]
  },
  {
   "cell_type": "code",
   "execution_count": 110,
   "metadata": {},
   "outputs": [
    {
     "data": {
      "text/plain": [
       "False"
      ]
     },
     "execution_count": 110,
     "metadata": {},
     "output_type": "execute_result"
    }
   ],
   "source": [
    "prime(5151512515524)"
   ]
  },
  {
   "cell_type": "markdown",
   "metadata": {},
   "source": [
    "### 5. Create a function that converts a word to a bitstring and then to a boolean list based on the following criteria:\n",
    "    1. Locate the position of the letter in the English alphabet (from 1 to 26).\n",
    "    2. Odd positions will be represented as 1 and 0 otherwise.\n",
    "    3. Convert the represented positions to boolean values, 1 for True and 0\n",
    "    for False.\n",
    "    4. Store the conversions into an array.\n",
    "    Examples\n",
    "    to_boolean_list('deep') ➞ [False, True, True, False]\n",
    "    # deep converts to 0110\n",
    "    # d is the 4th alphabet - 0\n",
    "    # e is the 5th alphabet - 1\n",
    "    # e is the 5th alphabet - 1\n",
    "    # p is the 16th alphabet - 0\n",
    "    to_boolean_list('loves') ➞ [False, True, False, True, True]\n",
    "    to_boolean_list('tesh') ➞ [False, True, True, False]"
   ]
  },
  {
   "cell_type": "code",
   "execution_count": 133,
   "metadata": {},
   "outputs": [],
   "source": [
    "def char_position(letter):\n",
    "    return (ord(letter) - 97) + 1\n",
    "\n",
    "def to_boolean_list(s):\n",
    "    lst = []\n",
    "    for i in range(len(s)):\n",
    "        if char_position(s[i]) % 2 == 0:\n",
    "            lst.append(False)\n",
    "        else:\n",
    "            lst.append(True)\n",
    "    return lst\n"
   ]
  },
  {
   "cell_type": "code",
   "execution_count": 134,
   "metadata": {},
   "outputs": [
    {
     "data": {
      "text/plain": [
       "[False, True, True, False]"
      ]
     },
     "execution_count": 134,
     "metadata": {},
     "output_type": "execute_result"
    }
   ],
   "source": [
    "to_boolean_list('deep')"
   ]
  },
  {
   "cell_type": "code",
   "execution_count": 135,
   "metadata": {},
   "outputs": [
    {
     "data": {
      "text/plain": [
       "[False, True, False, True, True]"
      ]
     },
     "execution_count": 135,
     "metadata": {},
     "output_type": "execute_result"
    }
   ],
   "source": [
    "to_boolean_list('loves')"
   ]
  },
  {
   "cell_type": "code",
   "execution_count": 136,
   "metadata": {},
   "outputs": [
    {
     "data": {
      "text/plain": [
       "[False, True, True, False]"
      ]
     },
     "execution_count": 136,
     "metadata": {},
     "output_type": "execute_result"
    }
   ],
   "source": [
    "to_boolean_list('tesh')"
   ]
  }
 ],
 "metadata": {
  "kernelspec": {
   "display_name": "Python 3",
   "language": "python",
   "name": "python3"
  },
  "language_info": {
   "codemirror_mode": {
    "name": "ipython",
    "version": 3
   },
   "file_extension": ".py",
   "mimetype": "text/x-python",
   "name": "python",
   "nbconvert_exporter": "python",
   "pygments_lexer": "ipython3",
   "version": "3.8.3"
  }
 },
 "nbformat": 4,
 "nbformat_minor": 4
}
