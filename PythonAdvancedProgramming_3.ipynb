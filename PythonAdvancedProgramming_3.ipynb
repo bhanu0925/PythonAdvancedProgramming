{
 "cells": [
  {
   "cell_type": "markdown",
   "metadata": {},
   "source": [
    "## PythonAdvancedProgramming_3"
   ]
  },
  {
   "cell_type": "markdown",
   "metadata": {},
   "source": [
    "### Question 1\n",
    "    1. Create a function to perform basic arithmetic operations that includes\n",
    "    addition, subtraction, multiplication and division on a string number (e.g. '12 +\n",
    "    24' or '23 - 21' or '12 // 12' or '12 * 21').\n",
    "    Here, we have 1 followed by a space, operator followed by another space\n",
    "    and 2. For the challenge, we are going to have only two numbers between 1\n",
    "    valid operator. The return value should be a number.\n",
    "    eval() is not allowed. In case of division, whenever the second number equals\n",
    "    '0' return -1.\n",
    "    For example:\n",
    "    '15 // 0' ➞ -1\n",
    "    Examples\n",
    "    arithmetic_operation('12 + 12') ➞ 24 // 12 + 12 = 24\n",
    "    arithmetic_operation('12 - 12') ➞ 24 // 12 - 12 = 0\n",
    "    arithmetic_operation('12 * 12') ➞ 144 // 12 * 12 = 144\n",
    "    arithmetic_operation('12 // 0') ➞ -1 // 12 / 0 = -1\n"
   ]
  },
  {
   "cell_type": "code",
   "execution_count": 1,
   "metadata": {},
   "outputs": [],
   "source": [
    "def arithmetic_operation(str):\n",
    "    operators = ['+','*','/','-','//','%']\n",
    "    exp = list(str.split())\n",
    "    if exp[1] == '+':\n",
    "        print(\"The expression :\",str)\n",
    "        return int(exp[0]) + int(exp[2])\n",
    "    elif exp[1] == '-':\n",
    "        print(\"The expression :\",str)\n",
    "        return int(exp[0]) - int(exp[2])\n",
    "    elif exp[1] == '//':\n",
    "        print(\"The expression :\",str)\n",
    "        if int(exp[2]) == 0 or int(exp[0]) == 0:\n",
    "            return -1\n",
    "        else:\n",
    "            return int(exp[0]) // int(exp[2])    \n",
    "    elif exp[1] == '*':\n",
    "        print(\"The expression :\",str)\n",
    "        return int(exp[0]) * int(exp[2]) \n",
    "    elif exp[1] == '/':\n",
    "        print(\"The expression :\",str)\n",
    "        if int(exp[2]) == 0 or int(exp[0]) == 0:\n",
    "            return -1\n",
    "        else:            \n",
    "            return int(exp[0]) / int(exp[2])              \n",
    "    elif exp[1] == '%':\n",
    "        print(\"The expression :\",str)\n",
    "        return int(exp[0])  % int(exp[2])"
   ]
  },
  {
   "cell_type": "code",
   "execution_count": 2,
   "metadata": {},
   "outputs": [
    {
     "name": "stdout",
     "output_type": "stream",
     "text": [
      "The expression : 12 + 12\n"
     ]
    },
    {
     "data": {
      "text/plain": [
       "24"
      ]
     },
     "execution_count": 2,
     "metadata": {},
     "output_type": "execute_result"
    }
   ],
   "source": [
    "arithmetic_operation('12 + 12')"
   ]
  },
  {
   "cell_type": "code",
   "execution_count": 3,
   "metadata": {},
   "outputs": [
    {
     "name": "stdout",
     "output_type": "stream",
     "text": [
      "The expression : 12 - 12\n"
     ]
    },
    {
     "data": {
      "text/plain": [
       "0"
      ]
     },
     "execution_count": 3,
     "metadata": {},
     "output_type": "execute_result"
    }
   ],
   "source": [
    "arithmetic_operation('12 - 12')"
   ]
  },
  {
   "cell_type": "code",
   "execution_count": 4,
   "metadata": {},
   "outputs": [
    {
     "name": "stdout",
     "output_type": "stream",
     "text": [
      "The expression : 12 * 12\n"
     ]
    },
    {
     "data": {
      "text/plain": [
       "144"
      ]
     },
     "execution_count": 4,
     "metadata": {},
     "output_type": "execute_result"
    }
   ],
   "source": [
    "arithmetic_operation('12 * 12')"
   ]
  },
  {
   "cell_type": "code",
   "execution_count": 5,
   "metadata": {},
   "outputs": [
    {
     "name": "stdout",
     "output_type": "stream",
     "text": [
      "The expression : 12 / 12\n"
     ]
    },
    {
     "data": {
      "text/plain": [
       "1.0"
      ]
     },
     "execution_count": 5,
     "metadata": {},
     "output_type": "execute_result"
    }
   ],
   "source": [
    "arithmetic_operation('12 / 12')"
   ]
  },
  {
   "cell_type": "code",
   "execution_count": 6,
   "metadata": {},
   "outputs": [
    {
     "name": "stdout",
     "output_type": "stream",
     "text": [
      "The expression : 12 // 12\n"
     ]
    },
    {
     "data": {
      "text/plain": [
       "1"
      ]
     },
     "execution_count": 6,
     "metadata": {},
     "output_type": "execute_result"
    }
   ],
   "source": [
    "arithmetic_operation('12 // 12')"
   ]
  },
  {
   "cell_type": "code",
   "execution_count": 7,
   "metadata": {},
   "outputs": [
    {
     "name": "stdout",
     "output_type": "stream",
     "text": [
      "The expression : 12 % 12\n"
     ]
    },
    {
     "data": {
      "text/plain": [
       "0"
      ]
     },
     "execution_count": 7,
     "metadata": {},
     "output_type": "execute_result"
    }
   ],
   "source": [
    "arithmetic_operation('12 % 12')"
   ]
  },
  {
   "cell_type": "code",
   "execution_count": 8,
   "metadata": {},
   "outputs": [
    {
     "name": "stdout",
     "output_type": "stream",
     "text": [
      "The expression : 12 // 0\n"
     ]
    },
    {
     "data": {
      "text/plain": [
       "-1"
      ]
     },
     "execution_count": 8,
     "metadata": {},
     "output_type": "execute_result"
    }
   ],
   "source": [
    "arithmetic_operation('12 // 0')"
   ]
  },
  {
   "cell_type": "code",
   "execution_count": 9,
   "metadata": {},
   "outputs": [
    {
     "name": "stdout",
     "output_type": "stream",
     "text": [
      "The expression : 0 // 0\n"
     ]
    },
    {
     "data": {
      "text/plain": [
       "-1"
      ]
     },
     "execution_count": 9,
     "metadata": {},
     "output_type": "execute_result"
    }
   ],
   "source": [
    "arithmetic_operation('0 // 0')"
   ]
  },
  {
   "cell_type": "code",
   "execution_count": 10,
   "metadata": {},
   "outputs": [
    {
     "name": "stdout",
     "output_type": "stream",
     "text": [
      "The expression : 0 // 4\n"
     ]
    },
    {
     "data": {
      "text/plain": [
       "-1"
      ]
     },
     "execution_count": 10,
     "metadata": {},
     "output_type": "execute_result"
    }
   ],
   "source": [
    "arithmetic_operation('0 // 4')"
   ]
  },
  {
   "cell_type": "markdown",
   "metadata": {},
   "source": [
    "### Question 2\n",
    "    2. Write a function that takes the coordinates of three points in the form of a\n",
    "    2d array and returns the perimeter of the triangle. The given points are the\n",
    "    vertices of a triangle on a two-dimensional plane.\n",
    "    Examples\n",
    "    perimeter( [ [15, 7], [5, 22], [11, 1] ] ) ➞ 47.08\n",
    "    perimeter( [ [0, 0], [0, 1], [1, 0] ] ) ➞ 3.42\n",
    "    perimeter( [ [-10, -10], [10, 10 ], [-10, 10] ] ) ➞ 68.28\n"
   ]
  },
  {
   "cell_type": "code",
   "execution_count": 11,
   "metadata": {},
   "outputs": [],
   "source": [
    "import math\n",
    "def perimeter(ary):\n",
    "    # distance bet two points = squarroot ((ax-ay) **2 + (bx-by)**2)\n",
    "    #lets split the list in to 3 different lists\n",
    "    x = ary[0]\n",
    "    y = ary[1]\n",
    "    z = ary[2]\n",
    "    #Find lenth of 3 sides\n",
    "    a = math.sqrt((x[0]-x[1])**2 + (y[0]-y[1])**2)\n",
    "    b = math.sqrt((y[0]-y[1])**2 + (z[0]-z[1])**2)\n",
    "    c = math.sqrt((z[0]-z[1])**2 + (x[0]-x[1])**2)\n",
    "    perimetr = a + b + c\n",
    "    print(\"The co ordinates are \",x,y,z)\n",
    "    return perimetr"
   ]
  },
  {
   "cell_type": "code",
   "execution_count": 12,
   "metadata": {},
   "outputs": [
    {
     "name": "stdout",
     "output_type": "stream",
     "text": [
      "The co ordinates are  [15, 7] [5, 22] [11, 1]\n"
     ]
    },
    {
     "data": {
      "text/plain": [
       "51.31762562623766"
      ]
     },
     "execution_count": 12,
     "metadata": {},
     "output_type": "execute_result"
    }
   ],
   "source": [
    "perimeter( [ [15, 7], [5, 22], [11, 1] ] ) "
   ]
  },
  {
   "cell_type": "code",
   "execution_count": 13,
   "metadata": {},
   "outputs": [
    {
     "name": "stdout",
     "output_type": "stream",
     "text": [
      "The co ordinates are  [0, 0] [0, 1] [1, 0]\n"
     ]
    },
    {
     "data": {
      "text/plain": [
       "3.414213562373095"
      ]
     },
     "execution_count": 13,
     "metadata": {},
     "output_type": "execute_result"
    }
   ],
   "source": [
    "perimeter( [ [0, 0], [0, 1], [1, 0] ] )"
   ]
  },
  {
   "cell_type": "code",
   "execution_count": 14,
   "metadata": {},
   "outputs": [
    {
     "name": "stdout",
     "output_type": "stream",
     "text": [
      "The co ordinates are  [-10, -10] [10, 10] [-10, 10]\n"
     ]
    },
    {
     "data": {
      "text/plain": [
       "40.0"
      ]
     },
     "execution_count": 14,
     "metadata": {},
     "output_type": "execute_result"
    }
   ],
   "source": [
    "perimeter( [ [-10, -10], [10, 10 ], [-10, 10] ] )"
   ]
  },
  {
   "cell_type": "markdown",
   "metadata": {},
   "source": [
    "### Question 3\n",
    "    3. A city skyline can be represented as a 2-D list with 1s representing\n",
    "    buildings. In the example below, the height of the tallest building is 4 (second-\n",
    "    most right column).\n",
    "    [[0, 0, 0, 0, 0, 0],\n",
    "    [0, 0, 0, 0, 1, 0],\n",
    "    [0, 0, 1, 0, 1, 0],\n",
    "    [0, 1, 1, 1, 1, 0],\n",
    "    [1, 1, 1, 1, 1, 1]]\n",
    "    Create a function that takes a skyline (2-D list of 0's and 1's) and returns the\n",
    "    height of the tallest skyscraper.\n",
    "    Examples\n",
    "    tallest_skyscraper([\n",
    "    [0, 0, 0, 0],\n",
    "    [0, 1, 0, 0],\n",
    "    [0, 1, 1, 0],\n",
    "    [1, 1, 1, 1]\n",
    "    ]) ➞ 3\n",
    "    tallest_skyscraper([\n",
    "    [0, 1, 0, 0],\n",
    "    [0, 1, 0, 0],\n",
    "    [0, 1, 1, 0],\n",
    "    [1, 1, 1, 1]\n",
    "    ]) ➞ 4\n",
    "    tallest_skyscraper([\n",
    "    [0, 0, 0, 0],\n",
    "    [0, 0, 0, 0],\n",
    "    [1, 1, 1, 0],\n",
    "    [1, 1, 1, 1]\n",
    "    ]) ➞ 2\n"
   ]
  },
  {
   "cell_type": "code",
   "execution_count": 15,
   "metadata": {},
   "outputs": [],
   "source": [
    "def tallest_skyscraper(array):\n",
    "    list_of_height = []\n",
    "    sum = 0\n",
    "    for i in range(len(array[0])):\n",
    "        for j in range(len(array)):\n",
    "            sum = sum + array[j][i]\n",
    "        list_of_height.append(sum)\n",
    "        sum = 0\n",
    "    return \"The hieght of tallest building is : \", max(list_of_height)\n",
    "\n",
    "  "
   ]
  },
  {
   "cell_type": "code",
   "execution_count": 16,
   "metadata": {},
   "outputs": [
    {
     "data": {
      "text/plain": [
       "('The hieght of tallest building is : ', 3)"
      ]
     },
     "execution_count": 16,
     "metadata": {},
     "output_type": "execute_result"
    }
   ],
   "source": [
    "tallest_skyscraper([\n",
    "[0, 0, 0, 0],\n",
    "[0, 1, 0, 0],\n",
    "[0, 1, 1, 0],\n",
    "[1, 1, 1, 1]\n",
    "])"
   ]
  },
  {
   "cell_type": "code",
   "execution_count": 17,
   "metadata": {},
   "outputs": [
    {
     "data": {
      "text/plain": [
       "('The hieght of tallest building is : ', 4)"
      ]
     },
     "execution_count": 17,
     "metadata": {},
     "output_type": "execute_result"
    }
   ],
   "source": [
    "tallest_skyscraper([\n",
    "[0, 1, 0, 0],\n",
    "[0, 1, 0, 0],\n",
    "[0, 1, 1, 0],\n",
    "[1, 1, 1, 1]\n",
    "]) "
   ]
  },
  {
   "cell_type": "code",
   "execution_count": 18,
   "metadata": {},
   "outputs": [
    {
     "data": {
      "text/plain": [
       "('The hieght of tallest building is : ', 2)"
      ]
     },
     "execution_count": 18,
     "metadata": {},
     "output_type": "execute_result"
    }
   ],
   "source": [
    "tallest_skyscraper([\n",
    "[0, 0, 0, 0],\n",
    "[0, 0, 0, 0],\n",
    "[1, 1, 1, 0],\n",
    "[1, 1, 1, 1]\n",
    "])"
   ]
  },
  {
   "cell_type": "markdown",
   "metadata": {},
   "source": [
    "### Question 4\n",
    "\n",
    "    4. A financial institution provides professional services to banks and claims\n",
    "    charges from the customers based on the number of man-days provided.\n",
    "    Internally, it has set a scheme to motivate and reward staff to meet and\n",
    "    exceed targeted billable utilization and revenues by paying a bonus for each\n",
    "    day claimed from customers in excess of a threshold target.\n",
    "    This quarterly scheme is calculated with a threshold target of 32 days per\n",
    "    quarter, and the incentive payment for each billable day in excess of such\n",
    "    threshold target is shown as follows:\n",
    "    Days Bonus\n",
    "    0 to 32 days Zero\n",
    "    33 to 40 days SGD$325 per billable day\n",
    "    41 to 48 days SGD$550 per billable day\n",
    "    Greater than 48 days SGD$600 per billable day\n",
    "\n",
    "    Please note that incentive payment is calculated progressively. As an\n",
    "    example, if an employee reached total billable days of 45 in a quarter, his/her\n",
    "    incentive payment is computed as follows:\n",
    "    32*0 + 8*325 + 5*550 = 5350\n",
    "    Write a function to read the billable days of an employee and return the bonus\n",
    "    he/she has obtained in that quarter.\n",
    "    Examples\n",
    "    bonus(15) ➞ 0\n",
    "    bonus(37) ➞ 1625\n",
    "    bonus(50) ➞ 8200\n"
   ]
  },
  {
   "cell_type": "code",
   "execution_count": 21,
   "metadata": {},
   "outputs": [],
   "source": [
    "def bonus(day):\n",
    "    days = [32,40,48]\n",
    "    inc = 0\n",
    "    while True :\n",
    "        if day <=32 :\n",
    "            break\n",
    "        if day > 48:\n",
    "            inc = inc + (day - days[2]) * 600\n",
    "            day = day - (day - days[2])\n",
    "            print(inc)\n",
    "        elif day > 40 :\n",
    "            inc = inc + (day -days[1]) * 550\n",
    "            day = day - (day - days[1])\n",
    "        elif day > 32:\n",
    "            inc = inc + (day -days[0]) * 325\n",
    "            day = day - (day - days[0])\n",
    "    return \"The incentive is : \",inc       "
   ]
  },
  {
   "cell_type": "code",
   "execution_count": 22,
   "metadata": {},
   "outputs": [
    {
     "data": {
      "text/plain": [
       "('The incentive is : ', 0)"
      ]
     },
     "execution_count": 22,
     "metadata": {},
     "output_type": "execute_result"
    }
   ],
   "source": [
    "bonus(15)"
   ]
  },
  {
   "cell_type": "code",
   "execution_count": 23,
   "metadata": {},
   "outputs": [
    {
     "data": {
      "text/plain": [
       "('The incentive is : ', 1625)"
      ]
     },
     "execution_count": 23,
     "metadata": {},
     "output_type": "execute_result"
    }
   ],
   "source": [
    "bonus(37)"
   ]
  },
  {
   "cell_type": "code",
   "execution_count": 24,
   "metadata": {},
   "outputs": [
    {
     "name": "stdout",
     "output_type": "stream",
     "text": [
      "1200\n"
     ]
    },
    {
     "data": {
      "text/plain": [
       "('The incentive is : ', 8200)"
      ]
     },
     "execution_count": 24,
     "metadata": {},
     "output_type": "execute_result"
    }
   ],
   "source": [
    "bonus(50)"
   ]
  },
  {
   "cell_type": "code",
   "execution_count": 25,
   "metadata": {},
   "outputs": [
    {
     "data": {
      "text/plain": [
       "('The incentive is : ', 5350)"
      ]
     },
     "execution_count": 25,
     "metadata": {},
     "output_type": "execute_result"
    }
   ],
   "source": [
    "bonus(45)"
   ]
  },
  {
   "cell_type": "markdown",
   "metadata": {},
   "source": [
    "### Question 5\n",
    "    5. A number is said to be Disarium if the sum of its digits raised to their\n",
    "    respective positions is the number itself.\n",
    "    Create a function that determines whether a number is a Disarium or not.\n",
    "    Examples\n",
    "    is_disarium(75) ➞ False\n",
    "    # 7^1 + 5^2 = 7 + 25 = 32\n",
    "    is_disarium(135) ➞ True\n",
    "    # 1^1 + 3^2 + 5^3 = 1 + 9 + 125 = 135\n",
    "    is_disarium(544) ➞ False\n",
    "    is_disarium(518) ➞ True\n",
    "    is_disarium(466) ➞ False\n",
    "    is_disarium(8) ➞ True"
   ]
  },
  {
   "cell_type": "code",
   "execution_count": 42,
   "metadata": {},
   "outputs": [],
   "source": [
    "def is_disarium(num):\n",
    "    sum = 0\n",
    "    tempNum = num\n",
    "    while(num>0):\n",
    "        dgcnt= len(str(num))\n",
    "        digit = num%10\n",
    "        sum= sum + digit**dgcnt   \n",
    "        dgcnt-=1\n",
    "        num = num//10    \n",
    "    if sum == tempNum:\n",
    "        return tempNum,\"Number is Disarium\"\n",
    "    else:\n",
    "        return tempNum,\"Number is not Disarium\"\n"
   ]
  },
  {
   "cell_type": "code",
   "execution_count": 43,
   "metadata": {},
   "outputs": [
    {
     "data": {
      "text/plain": [
       "(544, 'Number is not Disarium')"
      ]
     },
     "execution_count": 43,
     "metadata": {},
     "output_type": "execute_result"
    }
   ],
   "source": [
    "is_disarium(544)"
   ]
  },
  {
   "cell_type": "code",
   "execution_count": 44,
   "metadata": {},
   "outputs": [
    {
     "data": {
      "text/plain": [
       "(518, 'Number is Disarium')"
      ]
     },
     "execution_count": 44,
     "metadata": {},
     "output_type": "execute_result"
    }
   ],
   "source": [
    "is_disarium(518)"
   ]
  },
  {
   "cell_type": "code",
   "execution_count": 45,
   "metadata": {},
   "outputs": [
    {
     "data": {
      "text/plain": [
       "(466, 'Number is not Disarium')"
      ]
     },
     "execution_count": 45,
     "metadata": {},
     "output_type": "execute_result"
    }
   ],
   "source": [
    "is_disarium(466)"
   ]
  },
  {
   "cell_type": "code",
   "execution_count": 46,
   "metadata": {},
   "outputs": [
    {
     "data": {
      "text/plain": [
       "(8, 'Number is Disarium')"
      ]
     },
     "execution_count": 46,
     "metadata": {},
     "output_type": "execute_result"
    }
   ],
   "source": [
    "is_disarium(8)"
   ]
  },
  {
   "cell_type": "code",
   "execution_count": null,
   "metadata": {},
   "outputs": [],
   "source": []
  }
 ],
 "metadata": {
  "kernelspec": {
   "display_name": "Python 3",
   "language": "python",
   "name": "python3"
  },
  "language_info": {
   "codemirror_mode": {
    "name": "ipython",
    "version": 3
   },
   "file_extension": ".py",
   "mimetype": "text/x-python",
   "name": "python",
   "nbconvert_exporter": "python",
   "pygments_lexer": "ipython3",
   "version": "3.8.3"
  }
 },
 "nbformat": 4,
 "nbformat_minor": 4
}
