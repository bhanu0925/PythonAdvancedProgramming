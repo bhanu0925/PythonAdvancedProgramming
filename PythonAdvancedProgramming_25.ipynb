{
 "cells": [
  {
   "cell_type": "markdown",
   "id": "9dac2a70",
   "metadata": {},
   "source": [
    "## PythonAdvancedProgramming_25"
   ]
  },
  {
   "cell_type": "markdown",
   "id": "e8264005",
   "metadata": {},
   "source": [
    "### Question 1\n",
    "    1. Write four functions that directly mutate a list:\n",
    "    1. repeat(lst, n): Repeat lst n times.\n",
    "    2. add(lst, x): Adds x to the end of the lst.\n",
    "    3. remove(lst, m, n): Removes all elements between indices m and n\n",
    "    inclusive in lst.\n",
    "    4. concat(lst, x): concatenates lst with x (another list).\n",
    "    Examples\n",
    "    lst = [1, 2, 3, 4]\n",
    "    repeat(lst, 3) ➞ [1, 2, 3, 4, 1, 2, 3, 4, 1, 2, 3, 4]\n",
    "    add(lst, 1) ➞ [1, 2, 3, 4, 1, 2, 3, 4, 1, 2, 3, 4, 1]\n",
    "    remove(lst, 1, 12) ➞ [1]\n",
    "    concat(lst, [3, 4]) ➞ [1, 3, 4]"
   ]
  },
  {
   "cell_type": "code",
   "execution_count": 33,
   "id": "2f9d71de",
   "metadata": {},
   "outputs": [
    {
     "name": "stdout",
     "output_type": "stream",
     "text": [
      "Repeating list [1, 2, 3, 4, 1, 2, 3, 4, 1, 2, 3, 4]\n",
      "adding at the end of list [1, 2, 3, 4, 1, 2, 3, 4, 1, 2, 3, 4, 8]\n",
      "Removing some elements form list [1, 2, 3, 4, 8]\n",
      "concating list [1, 2, 3, 4, 8, 6, 8]\n"
     ]
    }
   ],
   "source": [
    "\n",
    "def repeat(lst,n):\n",
    "    return lst * n\n",
    "\n",
    "def add(lst, x):\n",
    "    lst.append(x)\n",
    "    return lst\n",
    "\n",
    "def remove(lst,m,n):\n",
    "    del lst[m:n+1]\n",
    "    return lst\n",
    "\n",
    "def concat(lst,lst2):\n",
    "    return lst + lst2\n",
    "    \n",
    "\n",
    "lst = [1,2,3,4]\n",
    "lst = repeat(lst,3)\n",
    "print('Repeating list', lst)\n",
    "lst = add(lst,8)\n",
    "print(\"adding at the end of list\",lst)\n",
    "lst = remove(lst,1,8)\n",
    "print('Removing some elements form list',lst)\n",
    "lst = concat(lst,[6,8])\n",
    "print('concating list',lst)\n"
   ]
  },
  {
   "cell_type": "markdown",
   "id": "efaa73ba",
   "metadata": {},
   "source": [
    "### Question 2\n",
    "    2. The classic game of Mastermind is played on a tray on which the\n",
    "    Mastermind conceals a code and the Guesser has 10 tries to guess it. The\n",
    "    code is a sequence of 4 (or 6, sometimes more) pegs of different colors. Each\n",
    "    guess is a corresponding sequence of 4 (or more) pegs of different colors. A\n",
    "    guess is 'correct' when the color of every peg in the guess exactly matches\n",
    "    the corresponding peg in the Mastermind's code.\n",
    "    After each guess by the Guesser, the Mastermind will give a score comprising\n",
    "    black & white pegs, not arranged in any order:\n",
    "    - Black peg == guess peg matches the color of a code peg in the same\n",
    "    position.\n",
    "    - White peg == guess peg matches the color of a code peg in another\n",
    "    position.\n",
    "    Create a function that takes two strings, code and guess as arguments, and\n",
    "    returns the score in a dictionary.\n",
    "    - The code and guess are strings of numeric digits\n",
    "    - The color of the pegs are represented by numeric digits\n",
    "    - no 'peg' may be double-scored\n",
    "    Examples\n",
    "    guess_score('1423', '5678') ➞ {'black': 0, 'white': 0}\n",
    "\n",
    "    guess_score('1423', '2222') ➞ {'black': 1, 'white': 0}\n",
    "    guess_score('1423', '1234') ➞ {'black': 1, 'white': 3}\n",
    "    guess_score('1423', '2211') ➞ {'black': 0, 'white': 2}"
   ]
  },
  {
   "cell_type": "code",
   "execution_count": 58,
   "id": "3b6bca68",
   "metadata": {},
   "outputs": [],
   "source": [
    "def guess_score(code, guesser):\n",
    "    \n",
    "    dict = {'black' : 0, 'white' : 0}\n",
    "    BlackCnt = 0\n",
    "    whiteCnt = 0\n",
    "\n",
    "    if len(code) != len(guesser):\n",
    "        print('code and guesser are of not of equal lenth')\n",
    "        return False\n",
    "\n",
    "    code = [code[x] for x in range(len(code))]    # converting string of numbers in to list\n",
    "  \n",
    "    # find the black match\n",
    "    for i in range(len(guesser)):\n",
    "        if code[i] == guesser[i]:                # matching the index for black match\n",
    "            code[i] = '-'                        # if found replacing the match with '-'\n",
    "            BlackCnt += 1 \n",
    "            dict['black'] = BlackCnt             # updating the black count\n",
    "            \n",
    "    #for white matches\n",
    "    for i in range(len(guesser)):\n",
    "        for j in range(len(code)):               # for white match they can be in any index, traverse through the string\n",
    "            if guesser[i] == code[j]:\n",
    "                code[j] = '-'                    # if found replace with '-'\n",
    "                whiteCnt += 1\n",
    "                dict['white'] = whiteCnt         # update the count \n",
    "\n",
    "    return dict\n"
   ]
  },
  {
   "cell_type": "code",
   "execution_count": 59,
   "id": "3edccbae",
   "metadata": {},
   "outputs": [
    {
     "data": {
      "text/plain": [
       "{'black': 0, 'white': 0}"
      ]
     },
     "execution_count": 59,
     "metadata": {},
     "output_type": "execute_result"
    }
   ],
   "source": [
    "guess_score('1423', '5678')\n"
   ]
  },
  {
   "cell_type": "code",
   "execution_count": 60,
   "id": "58e10acb",
   "metadata": {},
   "outputs": [
    {
     "data": {
      "text/plain": [
       "{'black': 1, 'white': 0}"
      ]
     },
     "execution_count": 60,
     "metadata": {},
     "output_type": "execute_result"
    }
   ],
   "source": [
    "guess_score('1423', '2222')"
   ]
  },
  {
   "cell_type": "code",
   "execution_count": 61,
   "id": "013feb48",
   "metadata": {},
   "outputs": [
    {
     "data": {
      "text/plain": [
       "{'black': 1, 'white': 3}"
      ]
     },
     "execution_count": 61,
     "metadata": {},
     "output_type": "execute_result"
    }
   ],
   "source": [
    "guess_score('1423', '1234')"
   ]
  },
  {
   "cell_type": "code",
   "execution_count": 62,
   "id": "35a62100",
   "metadata": {},
   "outputs": [
    {
     "data": {
      "text/plain": [
       "{'black': 0, 'white': 2}"
      ]
     },
     "execution_count": 62,
     "metadata": {},
     "output_type": "execute_result"
    }
   ],
   "source": [
    "guess_score('1423', '2211')"
   ]
  },
  {
   "cell_type": "markdown",
   "id": "88ef268c",
   "metadata": {},
   "source": [
    "### Question 3\n",
    "    3. Create a function that takes a list lst and a number N and returns a list of\n",
    "    two integers from lst whose product equals N.\n",
    "    Examples\n",
    "    two_product([1, 2, -1, 4, 5], 20) ➞ [4, 5]\n",
    "    two_product([1, 2, 3, 4, 5], 10) ➞ [2, 5]\n",
    "    two_product([100, 12, 4, 1, 2], 15) ➞ None"
   ]
  },
  {
   "cell_type": "code",
   "execution_count": 173,
   "id": "b94770ad",
   "metadata": {},
   "outputs": [],
   "source": [
    "def two_product(lst, n):\n",
    "    lst = sorted(lst,reverse = True)\n",
    "    divisors = []\n",
    "    for i in range(len(lst)):\n",
    "        for j in range(i+1,len(lst)):\n",
    "            if lst[i]*lst[j] == n:\n",
    "                divisors.append(lst[i])            \n",
    "                divisors.append(lst[j])\n",
    "                break            \n",
    "    return sorted(divisors)\n"
   ]
  },
  {
   "cell_type": "code",
   "execution_count": 174,
   "id": "34b4f0e8",
   "metadata": {},
   "outputs": [
    {
     "data": {
      "text/plain": [
       "[4, 5]"
      ]
     },
     "execution_count": 174,
     "metadata": {},
     "output_type": "execute_result"
    }
   ],
   "source": [
    "two_product([1, 2, -1, 4, 5], 20)"
   ]
  },
  {
   "cell_type": "code",
   "execution_count": 175,
   "id": "64bcd220",
   "metadata": {},
   "outputs": [
    {
     "data": {
      "text/plain": [
       "[2, 5]"
      ]
     },
     "execution_count": 175,
     "metadata": {},
     "output_type": "execute_result"
    }
   ],
   "source": [
    "two_product([1, 2, 3, 4, 5], 10)"
   ]
  },
  {
   "cell_type": "code",
   "execution_count": 176,
   "id": "a4afdda3",
   "metadata": {},
   "outputs": [
    {
     "data": {
      "text/plain": [
       "[]"
      ]
     },
     "execution_count": 176,
     "metadata": {},
     "output_type": "execute_result"
    }
   ],
   "source": [
    "two_product([100, 12, 4, 1, 2], 15)"
   ]
  },
  {
   "cell_type": "markdown",
   "id": "9c246fe6",
   "metadata": {},
   "source": [
    "### Question 4\n",
    "    4. In this challenge, sort a list containing a series of dates given as strings.\n",
    "    Each date is given in the format DD-MM-YYYY_HH:MM:\n",
    "    '12-02-2012_13:44'\n",
    "    The priority of criteria used for sorting will be:\n",
    "    - Year\n",
    "    - Month\n",
    "    - Day\n",
    "    - Hours\n",
    "    - Minutes\n",
    "    Given a list lst and a string mode, implement a function that returns:\n",
    "    - if mode is equal to 'ASC', the list lst sorted in ascending order.\n",
    "    - if mode is equal to 'DSC', the list lst sorted in descending order.\n",
    "    Examples\n",
    "    sort_dates(['10-02-2018_12:30', '10-02-2016_12:30', '10-02-2018_12:15'],\n",
    "    'ASC') ➞ ['10-02-2016_12:30', '10-02-2018_12:15', '10-02-2018_12:30']\n",
    "    sort_dates(['10-02-2018_12:30', '10-02-2016_12:30', '10-02-2018_12:15'],\n",
    "    'DSC') ➞ ['10-02-2018_12:30', '10-02-2018_12:15', '10-02-2016_12:30']\n",
    "\n",
    "    sort_dates(['09-02-2000_10:03', '10-02-2000_18:29', '01-01-1999_00:55'],\n",
    "    'ASC') ➞ ['01-01-1999_00:55', '09-02-2000_10:03', '10-02-2000_18:29']"
   ]
  },
  {
   "cell_type": "code",
   "execution_count": 113,
   "id": "e9939e47",
   "metadata": {},
   "outputs": [],
   "source": [
    "import datetime\n",
    "def sort_dates(d, sort):\n",
    "    if sort == 'ASC':\n",
    "        print(\"Sorting in Ascending order\")\n",
    "        return sorted(d, key=lambda x: datetime.datetime.strptime(x, '%d-%m-%Y_%H:%M'), reverse = False)\n",
    "    elif sort == 'DSC':\n",
    "        print(\"Sorting in Descending order\")\n",
    "        return sorted(d, key=lambda x: datetime.datetime.strptime(x, '%d-%m-%Y_%H:%M'), reverse = True)\n",
    "    else:\n",
    "        print(\"Provide right sorting order\")"
   ]
  },
  {
   "cell_type": "code",
   "execution_count": 114,
   "id": "1202bddd",
   "metadata": {},
   "outputs": [
    {
     "name": "stdout",
     "output_type": "stream",
     "text": [
      "Sorting in Ascending order\n"
     ]
    },
    {
     "data": {
      "text/plain": [
       "['10-02-2016_12:30', '10-02-2018_12:15', '10-02-2018_12:30']"
      ]
     },
     "execution_count": 114,
     "metadata": {},
     "output_type": "execute_result"
    }
   ],
   "source": [
    "sort_dates(['10-02-2018_12:30', '10-02-2016_12:30', '10-02-2018_12:15'],\n",
    "'ASC')"
   ]
  },
  {
   "cell_type": "code",
   "execution_count": 115,
   "id": "6ab7e8e5",
   "metadata": {},
   "outputs": [
    {
     "name": "stdout",
     "output_type": "stream",
     "text": [
      "Sorting in Descending order\n"
     ]
    },
    {
     "data": {
      "text/plain": [
       "['10-02-2018_12:30', '10-02-2018_12:15', '10-02-2016_12:30']"
      ]
     },
     "execution_count": 115,
     "metadata": {},
     "output_type": "execute_result"
    }
   ],
   "source": [
    "sort_dates(['10-02-2018_12:30', '10-02-2016_12:30', '10-02-2018_12:15'],\n",
    "'DSC')"
   ]
  },
  {
   "cell_type": "code",
   "execution_count": 116,
   "id": "e4dbe96a",
   "metadata": {},
   "outputs": [
    {
     "name": "stdout",
     "output_type": "stream",
     "text": [
      "Sorting in Ascending order\n"
     ]
    },
    {
     "data": {
      "text/plain": [
       "['01-01-1999_00:55', '09-02-2000_10:03', '10-02-2000_18:29']"
      ]
     },
     "execution_count": 116,
     "metadata": {},
     "output_type": "execute_result"
    }
   ],
   "source": [
    "sort_dates(['09-02-2000_10:03', '10-02-2000_18:29', '01-01-1999_00:55'],\n",
    "'ASC')"
   ]
  },
  {
   "cell_type": "markdown",
   "id": "3b3a97b2",
   "metadata": {},
   "source": [
    "### Question 5\n",
    "    5. Write a function that selects all words that have all the same vowels (in any\n",
    "    order and/or number) as the first word, including the first word.\n",
    "    Examples\n",
    "    same_vowel_group(['toe', 'ocelot', 'maniac']) ➞ ['toe', 'ocelot']\n",
    "    same_vowel_group(['many', 'carriage', 'emit', 'apricot', 'animal']) ➞\n",
    "    ['many']\n",
    "    same_vowel_group(['hoops', 'chuff', 'bot', 'bottom']) ➞ ['hoops', 'bot',\n",
    "    'bottom']\n"
   ]
  },
  {
   "cell_type": "code",
   "execution_count": 169,
   "id": "2ab96da9",
   "metadata": {},
   "outputs": [],
   "source": [
    "def findVowelInWord(word):\n",
    "    lstvowstr = ''    \n",
    "    for i in range(len(word)):        \n",
    "        if word[i] in vowel:\n",
    "            lstvowstr = lstvowstr + word[i]\n",
    "    return ''.join(set(lstvowstr)) # find the unique vowels in the word\n",
    "\n",
    "\n",
    "def same_vowel_group(lst):\n",
    "    vowel = 'aeiou'\n",
    "    resultlst = []\n",
    "    test = findVowelInWord(lst[0])   # find the vowels in each word of the list     \n",
    "    resultlst.append(lst[0]) # append the first word in to list\n",
    "    for i in range(1,len(lst)):\n",
    "        vowWord = findVowelInWord(lst[i])\n",
    "        if test == vowWord: # check the vowel of each word with first word in the list\n",
    "            resultlst.append(lst[i])\n",
    "    return resultlst"
   ]
  },
  {
   "cell_type": "code",
   "execution_count": 170,
   "id": "f2cb200c",
   "metadata": {},
   "outputs": [
    {
     "data": {
      "text/plain": [
       "['toe', 'ocelot']"
      ]
     },
     "execution_count": 170,
     "metadata": {},
     "output_type": "execute_result"
    }
   ],
   "source": [
    "same_vowel_group(['toe', 'ocelot', 'maniac'])"
   ]
  },
  {
   "cell_type": "code",
   "execution_count": 171,
   "id": "114e80f2",
   "metadata": {},
   "outputs": [
    {
     "data": {
      "text/plain": [
       "['many']"
      ]
     },
     "execution_count": 171,
     "metadata": {},
     "output_type": "execute_result"
    }
   ],
   "source": [
    "same_vowel_group(['many', 'carriage', 'emit', 'apricot', 'animal'])"
   ]
  },
  {
   "cell_type": "code",
   "execution_count": 172,
   "id": "a0243fc8",
   "metadata": {},
   "outputs": [
    {
     "data": {
      "text/plain": [
       "['hoops', 'bot', 'bottom']"
      ]
     },
     "execution_count": 172,
     "metadata": {},
     "output_type": "execute_result"
    }
   ],
   "source": [
    "same_vowel_group(['hoops', 'chuff', 'bot', 'bottom'])"
   ]
  },
  {
   "cell_type": "markdown",
   "id": "179707dd",
   "metadata": {},
   "source": [
    "### Question 6\n",
    "    6. Create a function that takes a list of more than three numbers and returns\n",
    "    the Least Common Multiple (LCM).\n",
    "    Examples\n",
    "    lcm_of_list([1, 2, 3, 4, 5, 6, 7, 8, 9, 10]) ➞ 2520\n",
    "    lcm_of_list([13, 6, 17, 18, 19, 20, 37]) ➞ 27965340\n",
    "    lcm_of_list([44, 64, 12, 17, 65]) ➞ 2333760"
   ]
  },
  {
   "cell_type": "code",
   "execution_count": 119,
   "id": "e770eb41",
   "metadata": {},
   "outputs": [],
   "source": [
    "from math import gcd\n",
    "def lcm_of_list(lst):\n",
    "    a = [100, 200, 150]   \n",
    "    lcm = 1\n",
    "    for i in lst:\n",
    "        lcm = lcm*i//gcd(lcm, i)\n",
    "    return lcm"
   ]
  },
  {
   "cell_type": "code",
   "execution_count": 120,
   "id": "3b8da11b",
   "metadata": {},
   "outputs": [
    {
     "data": {
      "text/plain": [
       "2520"
      ]
     },
     "execution_count": 120,
     "metadata": {},
     "output_type": "execute_result"
    }
   ],
   "source": [
    "lcm_of_list([1, 2, 3, 4, 5, 6, 7, 8, 9, 10])"
   ]
  },
  {
   "cell_type": "code",
   "execution_count": 121,
   "id": "d320144d",
   "metadata": {},
   "outputs": [
    {
     "data": {
      "text/plain": [
       "27965340"
      ]
     },
     "execution_count": 121,
     "metadata": {},
     "output_type": "execute_result"
    }
   ],
   "source": [
    "lcm_of_list([13, 6, 17, 18, 19, 20, 37])"
   ]
  },
  {
   "cell_type": "code",
   "execution_count": 122,
   "id": "ef93c954",
   "metadata": {},
   "outputs": [
    {
     "data": {
      "text/plain": [
       "2333760"
      ]
     },
     "execution_count": 122,
     "metadata": {},
     "output_type": "execute_result"
    }
   ],
   "source": [
    "lcm_of_list([44, 64, 12, 17, 65])"
   ]
  }
 ],
 "metadata": {
  "kernelspec": {
   "display_name": "Python 3",
   "language": "python",
   "name": "python3"
  },
  "language_info": {
   "codemirror_mode": {
    "name": "ipython",
    "version": 3
   },
   "file_extension": ".py",
   "mimetype": "text/x-python",
   "name": "python",
   "nbconvert_exporter": "python",
   "pygments_lexer": "ipython3",
   "version": "3.8.8"
  }
 },
 "nbformat": 4,
 "nbformat_minor": 5
}
